{
 "cells": [
  {
   "cell_type": "markdown",
   "metadata": {},
   "source": [
    "**Inheritance** refers to deriving a class from base class/classes with little or no modification in it.\n",
    "\n",
    "**Types of inheritance**\n",
    "<ol>\n",
    "    <li>Single inheritance</li>\n",
    "    <li>Multiple inheritance</li>\n",
    "    <li>Multi-level inheritance</li>\n",
    "</ol>"
   ]
  },
  {
   "cell_type": "code",
   "execution_count": 57,
   "metadata": {},
   "outputs": [],
   "source": [
    "# Single inheritance\n",
    "class Parent():\n",
    "    '''Parent class'''\n",
    "    \n",
    "    def __init__(self, name):\n",
    "        '''Parent class constructor'''\n",
    "        self.name = name\n",
    "        print('Parent class constructor')\n",
    "        \n",
    "    def parentGreet(self):\n",
    "        '''Parent greeting'''\n",
    "        print(f'Hello {self.name}, I am Parent')\n",
    "        \n",
    "        \n",
    "class Child(Parent):\n",
    "    '''Child class'''\n",
    "    \n",
    "    def __init__(self, name):\n",
    "        '''Child class constructor'''\n",
    "        self.name = name\n",
    "        super().__init__(name)\n",
    "        print('Child class constructor')\n",
    "        \n",
    "    def childGreet(self):\n",
    "        '''Child greeting'''\n",
    "        print(f'Hello, I am {self.name}')"
   ]
  },
  {
   "cell_type": "code",
   "execution_count": 58,
   "metadata": {},
   "outputs": [
    {
     "name": "stdout",
     "output_type": "stream",
     "text": [
      "Parent class constructor\n",
      "Child class constructor\n"
     ]
    }
   ],
   "source": [
    "c = Child('Leo1')"
   ]
  },
  {
   "cell_type": "code",
   "execution_count": 59,
   "metadata": {},
   "outputs": [
    {
     "name": "stdout",
     "output_type": "stream",
     "text": [
      "Hello Leo1, I am Parent\n"
     ]
    }
   ],
   "source": [
    "c.parentGreet()"
   ]
  },
  {
   "cell_type": "code",
   "execution_count": 60,
   "metadata": {},
   "outputs": [
    {
     "name": "stdout",
     "output_type": "stream",
     "text": [
      "Hello, I am Leo1\n"
     ]
    }
   ],
   "source": [
    "c.childGreet()"
   ]
  },
  {
   "cell_type": "code",
   "execution_count": 61,
   "metadata": {},
   "outputs": [
    {
     "name": "stdout",
     "output_type": "stream",
     "text": [
      "(<class '__main__.Child'>, <class '__main__.Parent'>, <class 'object'>)\n"
     ]
    }
   ],
   "source": [
    "# Method Resolution Order\n",
    "print(Child.__mro__)"
   ]
  },
  {
   "cell_type": "code",
   "execution_count": 62,
   "metadata": {},
   "outputs": [],
   "source": [
    "# Multiple inheritance\n",
    "class Mother():\n",
    "    '''Mother class'''\n",
    "    \n",
    "    def __init__(self, name):\n",
    "        '''Mother class constructor'''\n",
    "        self.name = name\n",
    "        print('Mother class constructor')\n",
    "        \n",
    "    def motherGreet(self):\n",
    "        '''Mother greeting'''\n",
    "        print(f'Hello {self.name}, I am your Mother')\n",
    "        \n",
    "class Father():\n",
    "    '''Father class'''\n",
    "    \n",
    "    def __init__(self, name):\n",
    "        '''Father class constructor'''\n",
    "        self.name = name\n",
    "        print('Father class constructor')\n",
    "        \n",
    "    def fatherGreet(self):\n",
    "        '''Father greeting'''\n",
    "        print(f'Hello {self.name}, I am your Father')\n",
    "        \n",
    "class Child(Father, Mother):\n",
    "    '''Child class'''\n",
    "    \n",
    "    def __init__(self, name):\n",
    "        '''Child class constructor'''\n",
    "        self.name = name\n",
    "        # If you invoke super method it will invoke only one base class as in the order(in this case Father)\n",
    "        # so we have manually invoke all the parent classes as below\n",
    "        Father.__init__(self, name)\n",
    "        Mother.__init__(self, name)\n",
    "        print('Child class constructor')\n",
    "        \n",
    "    def childGreet(self):\n",
    "        '''Child greeting'''\n",
    "        print(f'Hello, I am {self.name}')"
   ]
  },
  {
   "cell_type": "code",
   "execution_count": 63,
   "metadata": {},
   "outputs": [
    {
     "name": "stdout",
     "output_type": "stream",
     "text": [
      "Father class constructor\n",
      "Mother class constructor\n",
      "Child class constructor\n"
     ]
    }
   ],
   "source": [
    "c = Child('Leo2')"
   ]
  },
  {
   "cell_type": "code",
   "execution_count": 64,
   "metadata": {},
   "outputs": [
    {
     "name": "stdout",
     "output_type": "stream",
     "text": [
      "Hello Leo2, I am your Father\n"
     ]
    }
   ],
   "source": [
    "c.fatherGreet()"
   ]
  },
  {
   "cell_type": "code",
   "execution_count": 65,
   "metadata": {},
   "outputs": [
    {
     "name": "stdout",
     "output_type": "stream",
     "text": [
      "Hello Leo2, I am your Mother\n"
     ]
    }
   ],
   "source": [
    "c.motherGreet()"
   ]
  },
  {
   "cell_type": "code",
   "execution_count": 66,
   "metadata": {},
   "outputs": [
    {
     "name": "stdout",
     "output_type": "stream",
     "text": [
      "Hello, I am Leo2\n"
     ]
    }
   ],
   "source": [
    "c.childGreet()"
   ]
  },
  {
   "cell_type": "code",
   "execution_count": 67,
   "metadata": {},
   "outputs": [
    {
     "name": "stdout",
     "output_type": "stream",
     "text": [
      "(<class '__main__.Child'>, <class '__main__.Father'>, <class '__main__.Mother'>, <class 'object'>)\n"
     ]
    }
   ],
   "source": [
    "# Method Resolution Order\n",
    "print(Child.__mro__)"
   ]
  },
  {
   "cell_type": "code",
   "execution_count": 68,
   "metadata": {},
   "outputs": [],
   "source": [
    "# Multi-level inheritance\n",
    "class Mother():\n",
    "    '''Mother class'''\n",
    "    \n",
    "    def __init__(self, name):\n",
    "        '''Mother class constructor'''\n",
    "        self.name = name\n",
    "        print('Mother class constructor')\n",
    "        \n",
    "    def motherGreet(self):\n",
    "        '''Mother greeting'''\n",
    "        print(f'Hello {self.name}, I am your Mother')\n",
    "        \n",
    "class Father(Mother):\n",
    "    '''Father class'''\n",
    "    \n",
    "    def __init__(self, name):\n",
    "        '''Father class constructor'''\n",
    "        self.name = name\n",
    "        super().__init__(name)\n",
    "        print('Father class constructor')\n",
    "        \n",
    "    def fatherGreet(self):\n",
    "        '''Father greeting'''\n",
    "        print(f'Hello {self.name}, I am your Father')\n",
    "        \n",
    "class Child(Father):\n",
    "    '''Child class'''\n",
    "    \n",
    "    def __init__(self, name):\n",
    "        '''Child class constructor'''\n",
    "        self.name = name\n",
    "        super().__init__( name)\n",
    "        print('Child class constructor')\n",
    "        \n",
    "    def childGreet(self):\n",
    "        '''Child greeting'''\n",
    "        print(f'Hello, I am {self.name}')"
   ]
  },
  {
   "cell_type": "code",
   "execution_count": 69,
   "metadata": {},
   "outputs": [
    {
     "name": "stdout",
     "output_type": "stream",
     "text": [
      "Mother class constructor\n",
      "Father class constructor\n",
      "Child class constructor\n"
     ]
    }
   ],
   "source": [
    "c = Child('Leo3')"
   ]
  },
  {
   "cell_type": "code",
   "execution_count": 70,
   "metadata": {},
   "outputs": [
    {
     "name": "stdout",
     "output_type": "stream",
     "text": [
      "Hello Leo3, I am your Father\n"
     ]
    }
   ],
   "source": [
    "c.fatherGreet()"
   ]
  },
  {
   "cell_type": "code",
   "execution_count": 71,
   "metadata": {},
   "outputs": [
    {
     "name": "stdout",
     "output_type": "stream",
     "text": [
      "Hello Leo3, I am your Mother\n"
     ]
    }
   ],
   "source": [
    "c.motherGreet()"
   ]
  },
  {
   "cell_type": "code",
   "execution_count": 72,
   "metadata": {},
   "outputs": [
    {
     "name": "stdout",
     "output_type": "stream",
     "text": [
      "Hello, I am Leo3\n"
     ]
    }
   ],
   "source": [
    "c.childGreet()"
   ]
  },
  {
   "cell_type": "code",
   "execution_count": 73,
   "metadata": {},
   "outputs": [
    {
     "name": "stdout",
     "output_type": "stream",
     "text": [
      "(<class '__main__.Child'>, <class '__main__.Father'>, <class '__main__.Mother'>, <class 'object'>)\n"
     ]
    }
   ],
   "source": [
    "# Method Resolution Order\n",
    "print(Child.__mro__)"
   ]
  },
  {
   "cell_type": "code",
   "execution_count": null,
   "metadata": {},
   "outputs": [],
   "source": []
  }
 ],
 "metadata": {
  "kernelspec": {
   "display_name": "Python 3",
   "language": "python",
   "name": "python3"
  },
  "language_info": {
   "codemirror_mode": {
    "name": "ipython",
    "version": 3
   },
   "file_extension": ".py",
   "mimetype": "text/x-python",
   "name": "python",
   "nbconvert_exporter": "python",
   "pygments_lexer": "ipython3",
   "version": "3.7.4"
  }
 },
 "nbformat": 4,
 "nbformat_minor": 2
}
