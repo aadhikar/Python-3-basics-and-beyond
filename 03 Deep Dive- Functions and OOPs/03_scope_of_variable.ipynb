{
 "cells": [
  {
   "cell_type": "markdown",
   "metadata": {},
   "source": [
    "**Scope of a variable**"
   ]
  },
  {
   "cell_type": "code",
   "execution_count": 19,
   "metadata": {},
   "outputs": [
    {
     "name": "stdout",
     "output_type": "stream",
     "text": [
      "Global variables are declared outside function and can be accessed both inside and outside of the function\n",
      "Anil is accessed inside the function local_var_example\n"
     ]
    }
   ],
   "source": [
    "# Local variables are declared inside function and can not be accessed outside of the function\n",
    "def local_var_example():\n",
    "    '''Local variables are declared inside function and can not be accessed outside of the function'''\n",
    "    name = 'Anil'\n",
    "    print(global_var_example.__doc__)\n",
    "    print(name, 'is accessed inside the function', local_var_example.__name__)\n",
    "\n",
    "local_var_example()\n",
    "\n",
    "# Outside of the function local_var_example and it will throw NameError\n",
    "#print(name, 'is accessed outside the function', local_var_example.__name__)"
   ]
  },
  {
   "cell_type": "code",
   "execution_count": 18,
   "metadata": {},
   "outputs": [
    {
     "name": "stdout",
     "output_type": "stream",
     "text": [
      "Global variables are declared outside function and can be accessed both inside and outside of the function\n",
      "Adhikari is accessed inside the function global_var_example\n",
      "Adhikari is accessed outside the function global_var_example\n"
     ]
    }
   ],
   "source": [
    "# Global variables are declared outside function and can be accessed both inside and outside of the function\n",
    "last_name = 'Adhikari'\n",
    "def global_var_example():\n",
    "    '''Global variables are declared outside function and can be accessed both inside and outside of the function'''\n",
    "    print(global_var_example.__doc__)\n",
    "    print(last_name, 'is accessed inside the function', global_var_example.__name__)\n",
    "\n",
    "global_var_example()\n",
    "# Outside of the function local_var_example and it will throw NameError\n",
    "print(last_name, 'is accessed outside the function', global_var_example.__name__)"
   ]
  },
  {
   "cell_type": "code",
   "execution_count": null,
   "metadata": {},
   "outputs": [],
   "source": []
  }
 ],
 "metadata": {
  "kernelspec": {
   "display_name": "Python 3",
   "language": "python",
   "name": "python3"
  },
  "language_info": {
   "codemirror_mode": {
    "name": "ipython",
    "version": 3
   },
   "file_extension": ".py",
   "mimetype": "text/x-python",
   "name": "python",
   "nbconvert_exporter": "python",
   "pygments_lexer": "ipython3",
   "version": "3.7.4"
  }
 },
 "nbformat": 4,
 "nbformat_minor": 2
}
