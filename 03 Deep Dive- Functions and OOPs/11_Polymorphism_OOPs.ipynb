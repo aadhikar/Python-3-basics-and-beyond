{
 "cells": [
  {
   "cell_type": "markdown",
   "metadata": {},
   "source": [
    "**Polymorphism** is also type of Method Overriding and allows us to define methods in the child class with the same name as defined in their parent class."
   ]
  },
  {
   "cell_type": "code",
   "execution_count": 1,
   "metadata": {},
   "outputs": [],
   "source": [
    "class Animal():\n",
    "    def __init__(self, name):\n",
    "        self.name = name\n",
    "        \n",
    "    def action(self):\n",
    "        pass\n",
    "\n",
    "    \n",
    "class Dog(Animal):\n",
    "    def __init__(self, name):\n",
    "        self.name = name\n",
    "        super().__init__(name)\n",
    "        \n",
    "    def action(self):\n",
    "        print(f'I am {self.name} and I sound like Bark')\n",
    "        \n",
    "class Cat(Animal):\n",
    "    def __init__(self, name):\n",
    "        self.name = name\n",
    "        super().__init__(name)\n",
    "        \n",
    "    def action(self):\n",
    "        print(f'I am {self.name} and I sound like Meow') "
   ]
  },
  {
   "cell_type": "code",
   "execution_count": 3,
   "metadata": {},
   "outputs": [
    {
     "name": "stdout",
     "output_type": "stream",
     "text": [
      "I am Leo and I sound like Bark\n",
      "I am May and I sound like Meow\n"
     ]
    }
   ],
   "source": [
    "d = Dog('Leo')\n",
    "d.action()\n",
    "c = Cat('May')\n",
    "c.action()"
   ]
  },
  {
   "cell_type": "code",
   "execution_count": null,
   "metadata": {},
   "outputs": [],
   "source": []
  }
 ],
 "metadata": {
  "kernelspec": {
   "display_name": "Python 3",
   "language": "python",
   "name": "python3"
  },
  "language_info": {
   "codemirror_mode": {
    "name": "ipython",
    "version": 3
   },
   "file_extension": ".py",
   "mimetype": "text/x-python",
   "name": "python",
   "nbconvert_exporter": "python",
   "pygments_lexer": "ipython3",
   "version": "3.7.4"
  }
 },
 "nbformat": 4,
 "nbformat_minor": 2
}
