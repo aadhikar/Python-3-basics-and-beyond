{
 "cells": [
  {
   "cell_type": "markdown",
   "metadata": {},
   "source": [
    "**Method overriding** is the way of overriding parent class method in sub class. This feature is helpful when different behavior in sub class is needed."
   ]
  },
  {
   "cell_type": "code",
   "execution_count": 13,
   "metadata": {},
   "outputs": [],
   "source": [
    "class Rectangle():\n",
    "    def __init__(self, lenth, breadth):\n",
    "        self.lenth = lenth\n",
    "        self.breadth = breadth\n",
    "        \n",
    "    def getArea(self):\n",
    "        return f'Area of th Rectangle is {self.lenth * self.breadth}'\n",
    "    \n",
    "class Square(Rectangle):\n",
    "    def __init__(self, side):\n",
    "        self.side = side\n",
    "        \n",
    "    def getArea(self):\n",
    "        return f'Area of th Square is {self.side * self.side}'"
   ]
  },
  {
   "cell_type": "code",
   "execution_count": 15,
   "metadata": {},
   "outputs": [
    {
     "name": "stdout",
     "output_type": "stream",
     "text": [
      "Area of th Rectangle is 8\n",
      "Area of th Square is 25\n"
     ]
    }
   ],
   "source": [
    "a = Rectangle(2, 4)\n",
    "print(a.getArea())\n",
    "d = Square(5)\n",
    "print(d.getArea())"
   ]
  },
  {
   "cell_type": "code",
   "execution_count": null,
   "metadata": {},
   "outputs": [],
   "source": []
  }
 ],
 "metadata": {
  "kernelspec": {
   "display_name": "Python 3",
   "language": "python",
   "name": "python3"
  },
  "language_info": {
   "codemirror_mode": {
    "name": "ipython",
    "version": 3
   },
   "file_extension": ".py",
   "mimetype": "text/x-python",
   "name": "python",
   "nbconvert_exporter": "python",
   "pygments_lexer": "ipython3",
   "version": "3.7.4"
  }
 },
 "nbformat": 4,
 "nbformat_minor": 2
}
