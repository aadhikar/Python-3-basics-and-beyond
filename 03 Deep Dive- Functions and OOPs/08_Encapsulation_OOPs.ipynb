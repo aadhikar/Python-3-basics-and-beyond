{
 "cells": [
  {
   "cell_type": "markdown",
   "metadata": {},
   "source": [
    "**Encapsulation** is one of the fundamental concepts in object-oriented programming (OOP). It describes the idea of wrapping data and the methods that work on data within one unit. This puts restrictions on accessing variables and methods directly and can prevent the accidental modification of data. To prevent accidental change, an object’s variable can only be changed by an object’s method. Those type of variables are known as **private varibale**.\n",
    "\n",
    "**Note:** Please refer **Access specifiers** from **04_classes.ipynb** for more details."
   ]
  },
  {
   "cell_type": "code",
   "execution_count": 10,
   "metadata": {},
   "outputs": [],
   "source": [
    "class rectangle():\n",
    "    '''This is rectangle class'''\n",
    "    def __init__(self, height, width):\n",
    "        '''This is constructor for rectangle class'''\n",
    "        self.__height = height\n",
    "        self.__width = width\n",
    "        \n",
    "    def getHeight(self):\n",
    "        '''Get height of the rectangle'''\n",
    "        return self.__height\n",
    "    \n",
    "    def setHeight(self, height):\n",
    "        '''Set height of the rectangle'''\n",
    "        self.__height = height\n",
    "        \n",
    "    def getWidth(self):\n",
    "        '''Get width of the rectangle'''\n",
    "        return self.__width\n",
    "    \n",
    "    def setWidth(self, width):\n",
    "        '''Set width of the rectangle'''\n",
    "        self.__width = width\n",
    "        \n",
    "    def getArea(self):\n",
    "        '''Get area of the rectangle'''\n",
    "        return self.__height * self.__width"
   ]
  },
  {
   "cell_type": "code",
   "execution_count": 12,
   "metadata": {},
   "outputs": [
    {
     "data": {
      "text/plain": [
       "200"
      ]
     },
     "execution_count": 12,
     "metadata": {},
     "output_type": "execute_result"
    }
   ],
   "source": [
    "r = rectangle(10, 20)\n",
    "r.getArea()"
   ]
  },
  {
   "cell_type": "code",
   "execution_count": 13,
   "metadata": {},
   "outputs": [
    {
     "data": {
      "text/plain": [
       "50"
      ]
     },
     "execution_count": 13,
     "metadata": {},
     "output_type": "execute_result"
    }
   ],
   "source": [
    "r.__height = 50\n",
    "r.__height"
   ]
  },
  {
   "cell_type": "code",
   "execution_count": 14,
   "metadata": {},
   "outputs": [
    {
     "data": {
      "text/plain": [
       "10"
      ]
     },
     "execution_count": 14,
     "metadata": {},
     "output_type": "execute_result"
    }
   ],
   "source": [
    "r.getHeight()"
   ]
  },
  {
   "cell_type": "code",
   "execution_count": null,
   "metadata": {},
   "outputs": [],
   "source": []
  }
 ],
 "metadata": {
  "kernelspec": {
   "display_name": "Python 3",
   "language": "python",
   "name": "python3"
  },
  "language_info": {
   "codemirror_mode": {
    "name": "ipython",
    "version": 3
   },
   "file_extension": ".py",
   "mimetype": "text/x-python",
   "name": "python",
   "nbconvert_exporter": "python",
   "pygments_lexer": "ipython3",
   "version": "3.7.4"
  }
 },
 "nbformat": 4,
 "nbformat_minor": 2
}
