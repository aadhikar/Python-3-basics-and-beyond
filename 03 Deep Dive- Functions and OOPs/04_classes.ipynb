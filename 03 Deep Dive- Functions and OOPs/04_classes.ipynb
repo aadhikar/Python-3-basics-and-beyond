{
 "cells": [
  {
   "cell_type": "markdown",
   "metadata": {},
   "source": [
    "**Classes** are the foundation of object-oriented\n",
    "programming.\n",
    "<ul>\n",
    "    <li>Classes(like <b>blueprints</b> ) represent real-world things you want to model in your programs: for example dogs, cars, and  robots.</li>\n",
    "    <li> You use a class to make objects, which are specific instances of dogs, cars, and robots.</li>\n",
    "    <li>A class defines the general behavior that a whole category of objects can have, and the information that can be associated with those objects.</li>\n",
    "    <li>Classes can inherit from each other – you can write a class that extends the functionality of an existing class. This allows you to code efficiently for a wide variety of situations.</li>\n",
    "</ul>\n",
    "\n",
    "**Object** is an instance of a claas which contains variables and methods.\n",
    "\n",
    "**Claas attributes** are attributes which owned by the class itself and shared by all the instances of the class.\n",
    "<ol>\n",
    "    <li><b>Built-in class attributes</b> gives us information about the class<br>\n",
    "    Examples:<br> __doc__, __name__<br>\n",
    "    <u><b>Note:</b></u> your_class_name.__dict__</li>\n",
    "    <li><b>User defined class attributs</b></li>\n",
    "</ol>\n",
    "\n",
    "**Access specifiers**\n",
    "<ol>\n",
    "    <li><b>Private attributes/methods(__)</b> can only be accessed inside the class defenition</li>\n",
    "    <li><b>Protected attributes/methods(_)</b> are only accessable only within the class and it's subclasses</li>\n",
    "    <li><b>Public attributes/methods</b> can and should be used freely</li>\n",
    "</ol>\n",
    "\n",
    "**Constructor** is implemented using <b> \\__init__(self):</b> which can define parameters that follows <b>self</b>\n",
    "\n",
    "**Destructor** is implemented using <b> \\__del__(self):</b> which can be used to delete the object manually"
   ]
  },
  {
   "cell_type": "code",
   "execution_count": 91,
   "metadata": {},
   "outputs": [
    {
     "name": "stdout",
     "output_type": "stream",
     "text": [
      "Age --> 3 is Protected attribute\n",
      "This is PROTECTED method\n",
      "Pet type --> Terrier is Public attribute\n",
      "This is PUBLIC method\n",
      "Name --> Leo is Private attribute\n",
      "This is PRIVATE method\n",
      "Destroying object\n"
     ]
    }
   ],
   "source": [
    "class Pet:\n",
    "    '''Pet class model'''\n",
    "    def __init__(self):\n",
    "        '''Pet class constructor\n",
    "        \n",
    "        Private attributes(__) can only be accessed inside the class defenition\n",
    "        Protected attributes(_) are only accessable only within the class and it's subclasses\n",
    "        Public attributes can and should be used freely\n",
    "        \n",
    "        '''\n",
    "        self.__name = 'dfgdfg' # Private attributes(__) can only be accessed inside the class defenition\n",
    "        self._age = '' # rotected attributes/(_) are only accessable only within the class and it's subclasses\n",
    "        self.pet_type = '' # Public attributes can and should be used freely\n",
    "        \n",
    "    def __privateMethod(self):\n",
    "        '''Private methods(__) can only be accessed inside the class defenition'''\n",
    "        print('This is PRIVATE method')\n",
    "        \n",
    "    def _protectedMethod(self):\n",
    "        '''Protected methods(_) are only accessable only within the class and it's subclasses'''\n",
    "        print('This is PROTECTED method')\n",
    "        \n",
    "    def publicMethod(self):\n",
    "        '''Public methods can and should be used freely'''\n",
    "        print('This is PUBLIC method')\n",
    "        \n",
    "    def setName(self, name):\n",
    "        self.__name = 'Name --> {0} is Private attribute'.format(name)\n",
    "        \n",
    "    def getName(self):\n",
    "        return self.__name\n",
    "        \n",
    "    def setAge(self, age):\n",
    "        self._age = 'Age --> {0} is Protected attribute'.format(age)\n",
    "        \n",
    "    def getAge(self):\n",
    "        return self._age\n",
    "        \n",
    "    def setPetType(self, pet_type):\n",
    "        self.pet_type = 'Pet type --> {0} is Public attribute'.format(pet_type)\n",
    "        \n",
    "    def getPetType(self):\n",
    "        return self.pet_type\n",
    "    \n",
    "    def __del__(self):\n",
    "        '''Pet class Destructor'''\n",
    "        print('Destroying object')\n",
    "        \n",
    "\n",
    "dog = Pet()\n",
    "# Setting values\n",
    "dog.setName('Leo')\n",
    "dog.setAge(3)\n",
    "dog.setPetType('Terrier')\n",
    "\n",
    "# Accessing Protected attribute/method\n",
    "print(dog._age)\n",
    "dog._protectedMethod()\n",
    "\n",
    "# Accessing Public attribute/method\n",
    "print(dog.pet_type)\n",
    "dog.publicMethod()\n",
    "\n",
    "# Below lines will throw AttributeError error\n",
    "#print(dog.__name)\n",
    "#dog.__privateMethod()\n",
    "print(dog._Pet__name)\n",
    "dog._Pet__privateMethod()\n",
    "del dog"
   ]
  },
  {
   "cell_type": "markdown",
   "metadata": {},
   "source": [
    "**More details about class**"
   ]
  },
  {
   "cell_type": "code",
   "execution_count": 92,
   "metadata": {},
   "outputs": [
    {
     "data": {
      "text/plain": [
       "mappingproxy({'__module__': '__main__',\n",
       "              '__doc__': 'Pet class model',\n",
       "              '__init__': <function __main__.Pet.__init__(self)>,\n",
       "              '_Pet__privateMethod': <function __main__.Pet.__privateMethod(self)>,\n",
       "              '_protectedMethod': <function __main__.Pet._protectedMethod(self)>,\n",
       "              'publicMethod': <function __main__.Pet.publicMethod(self)>,\n",
       "              'setName': <function __main__.Pet.setName(self, name)>,\n",
       "              'getName': <function __main__.Pet.getName(self)>,\n",
       "              'setAge': <function __main__.Pet.setAge(self, age)>,\n",
       "              'getAge': <function __main__.Pet.getAge(self)>,\n",
       "              'setPetType': <function __main__.Pet.setPetType(self, pet_type)>,\n",
       "              'getPetType': <function __main__.Pet.getPetType(self)>,\n",
       "              '__del__': <function __main__.Pet.__del__(self)>,\n",
       "              '__dict__': <attribute '__dict__' of 'Pet' objects>,\n",
       "              '__weakref__': <attribute '__weakref__' of 'Pet' objects>})"
      ]
     },
     "execution_count": 92,
     "metadata": {},
     "output_type": "execute_result"
    }
   ],
   "source": [
    "Pet.__dict__"
   ]
  },
  {
   "cell_type": "code",
   "execution_count": 93,
   "metadata": {},
   "outputs": [
    {
     "data": {
      "text/plain": [
       "'__main__'"
      ]
     },
     "execution_count": 93,
     "metadata": {},
     "output_type": "execute_result"
    }
   ],
   "source": [
    "Pet.__module__"
   ]
  },
  {
   "cell_type": "code",
   "execution_count": 94,
   "metadata": {},
   "outputs": [
    {
     "data": {
      "text/plain": [
       "'Pet'"
      ]
     },
     "execution_count": 94,
     "metadata": {},
     "output_type": "execute_result"
    }
   ],
   "source": [
    "Pet.__name__"
   ]
  },
  {
   "cell_type": "code",
   "execution_count": 95,
   "metadata": {},
   "outputs": [
    {
     "data": {
      "text/plain": [
       "'Pet class model'"
      ]
     },
     "execution_count": 95,
     "metadata": {},
     "output_type": "execute_result"
    }
   ],
   "source": [
    "Pet.__doc__"
   ]
  },
  {
   "cell_type": "code",
   "execution_count": 96,
   "metadata": {},
   "outputs": [
    {
     "data": {
      "text/plain": [
       "<function __main__.Pet.__init__(self)>"
      ]
     },
     "execution_count": 96,
     "metadata": {},
     "output_type": "execute_result"
    }
   ],
   "source": [
    "Pet.__init__"
   ]
  },
  {
   "cell_type": "code",
   "execution_count": 97,
   "metadata": {},
   "outputs": [
    {
     "data": {
      "text/plain": [
       "\"Pet class constructor\\n        \\n        Private attributes(__) can only be accessed inside the class defenition\\n        Protected attributes(_) are only accessable only within the class and it's subclasses\\n        Public attributes can and should be used freely\\n        \\n        \""
      ]
     },
     "execution_count": 97,
     "metadata": {},
     "output_type": "execute_result"
    }
   ],
   "source": [
    "Pet.__init__.__doc__"
   ]
  },
  {
   "cell_type": "code",
   "execution_count": 98,
   "metadata": {},
   "outputs": [
    {
     "data": {
      "text/plain": [
       "<function __main__.Pet.__privateMethod(self)>"
      ]
     },
     "execution_count": 98,
     "metadata": {},
     "output_type": "execute_result"
    }
   ],
   "source": [
    "Pet._Pet__privateMethod"
   ]
  },
  {
   "cell_type": "code",
   "execution_count": 99,
   "metadata": {},
   "outputs": [
    {
     "data": {
      "text/plain": [
       "'Private methods(__) can only be accessed inside the class defenition'"
      ]
     },
     "execution_count": 99,
     "metadata": {},
     "output_type": "execute_result"
    }
   ],
   "source": [
    "Pet._Pet__privateMethod.__doc__"
   ]
  },
  {
   "cell_type": "code",
   "execution_count": 100,
   "metadata": {},
   "outputs": [
    {
     "data": {
      "text/plain": [
       "<function __main__.Pet._protectedMethod(self)>"
      ]
     },
     "execution_count": 100,
     "metadata": {},
     "output_type": "execute_result"
    }
   ],
   "source": [
    "Pet._protectedMethod"
   ]
  },
  {
   "cell_type": "code",
   "execution_count": 101,
   "metadata": {},
   "outputs": [
    {
     "data": {
      "text/plain": [
       "\"Protected methods(_) are only accessable only within the class and it's subclasses\""
      ]
     },
     "execution_count": 101,
     "metadata": {},
     "output_type": "execute_result"
    }
   ],
   "source": [
    "Pet._protectedMethod.__doc__"
   ]
  },
  {
   "cell_type": "code",
   "execution_count": 102,
   "metadata": {},
   "outputs": [
    {
     "data": {
      "text/plain": [
       "<function __main__.Pet.publicMethod(self)>"
      ]
     },
     "execution_count": 102,
     "metadata": {},
     "output_type": "execute_result"
    }
   ],
   "source": [
    "Pet.publicMethod"
   ]
  },
  {
   "cell_type": "code",
   "execution_count": 103,
   "metadata": {},
   "outputs": [
    {
     "data": {
      "text/plain": [
       "'Public methods can and should be used freely'"
      ]
     },
     "execution_count": 103,
     "metadata": {},
     "output_type": "execute_result"
    }
   ],
   "source": [
    "Pet.publicMethod.__doc__"
   ]
  },
  {
   "cell_type": "code",
   "execution_count": 104,
   "metadata": {},
   "outputs": [
    {
     "data": {
      "text/plain": [
       "<function __main__.Pet.__del__(self)>"
      ]
     },
     "execution_count": 104,
     "metadata": {},
     "output_type": "execute_result"
    }
   ],
   "source": [
    "Pet.__del__"
   ]
  },
  {
   "cell_type": "code",
   "execution_count": 105,
   "metadata": {},
   "outputs": [
    {
     "data": {
      "text/plain": [
       "'Pet class Destructor'"
      ]
     },
     "execution_count": 105,
     "metadata": {},
     "output_type": "execute_result"
    }
   ],
   "source": [
    "Pet.__del__.__doc__"
   ]
  },
  {
   "cell_type": "code",
   "execution_count": null,
   "metadata": {},
   "outputs": [],
   "source": []
  }
 ],
 "metadata": {
  "kernelspec": {
   "display_name": "Python 3",
   "language": "python",
   "name": "python3"
  },
  "language_info": {
   "codemirror_mode": {
    "name": "ipython",
    "version": 3
   },
   "file_extension": ".py",
   "mimetype": "text/x-python",
   "name": "python",
   "nbconvert_exporter": "python",
   "pygments_lexer": "ipython3",
   "version": "3.7.4"
  }
 },
 "nbformat": 4,
 "nbformat_minor": 2
}
