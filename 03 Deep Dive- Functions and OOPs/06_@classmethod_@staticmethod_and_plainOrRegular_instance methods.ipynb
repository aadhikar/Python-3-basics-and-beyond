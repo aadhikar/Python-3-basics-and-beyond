{
 "cells": [
  {
   "cell_type": "markdown",
   "metadata": {},
   "source": [
    "**Regular (instance) methods** need a class instance and can access the instance through `self`. They can read and modify an objects state freely.\n",
    "\n",
    "**Class methods**, marked with the @classmethod decorator, don't need a class instance. They can't access the instance (self) but they have access to the class itself via `cls`.\n",
    "\n",
    "**Static methods**, marked with the @staticmethod decorator, don't have access to `cls` or `self`. They work like regular functions but belong to the class's namespace."
   ]
  },
  {
   "cell_type": "code",
   "execution_count": 60,
   "metadata": {},
   "outputs": [],
   "source": [
    "import math as math\n",
    "class PizzaWithClassmethod :\n",
    "    def __init__(self, ingredients):\n",
    "        #print('This is constructor')\n",
    "        #print(f'Pizza with ingredients {ingredients}')\n",
    "        self.ingredients = ingredients\n",
    "        \n",
    "    def __repr__(self):\n",
    "        return f'Pizza({self.ingredients})'\n",
    "    def customize(self, ingredients):\n",
    "        #print(f'Coustomized pizza with ingredients {self.ingredients}')\n",
    "        return self.ingredients\n",
    "    \n",
    "    @classmethod\n",
    "    def margherita(cls):\n",
    "        #print(f'This is Margherita pizza')\n",
    "        return cls(['chees', 'tomatoes'])\n",
    "    \n",
    "    @classmethod\n",
    "    def prosciutto(cls):\n",
    "        #print(f'This is Prosciutto pizza')\n",
    "        return cls(['chees', 'tomatoes', 'ham'])\n",
    "\n",
    "    @staticmethod\n",
    "    def size_of_pizza(rad):\n",
    "        return rad**2 * math.pi"
   ]
  },
  {
   "cell_type": "code",
   "execution_count": 61,
   "metadata": {},
   "outputs": [
    {
     "data": {
      "text/plain": [
       "Pizza(['chees', 'tomatoes'])"
      ]
     },
     "execution_count": 61,
     "metadata": {},
     "output_type": "execute_result"
    }
   ],
   "source": [
    "# Make your pizza here\n",
    "PizzaWithClassmethod.margherita()"
   ]
  },
  {
   "cell_type": "code",
   "execution_count": 62,
   "metadata": {},
   "outputs": [
    {
     "data": {
      "text/plain": [
       "Pizza(['chees', 'tomatoes', 'ham'])"
      ]
     },
     "execution_count": 62,
     "metadata": {},
     "output_type": "execute_result"
    }
   ],
   "source": [
    "PizzaWithClassmethod.prosciutto()"
   ]
  },
  {
   "cell_type": "code",
   "execution_count": 63,
   "metadata": {},
   "outputs": [],
   "source": [
    "import math as math\n",
    "class PizzaWithStaticmethod :\n",
    "    def __init__(self, radius, ingredients):\n",
    "        #print('This is constructor \\n')\n",
    "        #print(f'Pizza with ingredients \\n {ingredients}')\n",
    "        self.ingredients = ingredients\n",
    "        self.radius = radius\n",
    "        \n",
    "    def __repr__(self):\n",
    "        return f'Pizza({self.ingredients})'\n",
    "    \n",
    "    def area(self):\n",
    "        #print(f'Coustomized pizza with ingredients {self.ingredients} \\n')\n",
    "        return self.size_of_pizza(self.radius)\n",
    "\n",
    "    @staticmethod\n",
    "    def size_of_pizza(rad):\n",
    "        return rad**2 * math.pi"
   ]
  },
  {
   "cell_type": "code",
   "execution_count": 64,
   "metadata": {},
   "outputs": [
    {
     "data": {
      "text/plain": [
       "78.53981633974483"
      ]
     },
     "execution_count": 64,
     "metadata": {},
     "output_type": "execute_result"
    }
   ],
   "source": [
    "p = PizzaWithStaticmethod(5, ['Cheese', 'Mango'])\n",
    "p.area()"
   ]
  },
  {
   "cell_type": "code",
   "execution_count": null,
   "metadata": {},
   "outputs": [],
   "source": []
  }
 ],
 "metadata": {
  "kernelspec": {
   "display_name": "Python 3",
   "language": "python",
   "name": "python3"
  },
  "language_info": {
   "codemirror_mode": {
    "name": "ipython",
    "version": 3
   },
   "file_extension": ".py",
   "mimetype": "text/x-python",
   "name": "python",
   "nbconvert_exporter": "python",
   "pygments_lexer": "ipython3",
   "version": "3.7.4"
  }
 },
 "nbformat": 4,
 "nbformat_minor": 2
}
