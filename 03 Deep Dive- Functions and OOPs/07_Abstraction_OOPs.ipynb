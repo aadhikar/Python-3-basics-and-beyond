{
 "cells": [
  {
   "cell_type": "markdown",
   "metadata": {},
   "source": [
    "**Abstraction** is way of hiding complexicity(real implementation) and only showing essential features of the object."
   ]
  },
  {
   "cell_type": "markdown",
   "metadata": {},
   "source": [
    "**Abstract classes** are classes that are meant to be inherited but avoid implementing specific methods, leaving\n",
    "behind only method signatures that subclasses must implement."
   ]
  },
  {
   "cell_type": "code",
   "execution_count": 79,
   "metadata": {},
   "outputs": [],
   "source": [
    "# Implementing an abstarct class\n",
    "from abc import ABC, abstractmethod\n",
    "class thisIsAbstractClass(ABC):\n",
    "    def __init__(self):\n",
    "        ''' This is thisIsAbstractClass init method'''\n",
    "        print(f'thisIsAbstractClass.__init__', self.__init__.__doc__)\n",
    "    \n",
    "    @abstractmethod\n",
    "    def exampleAbstractMethod1(self):\n",
    "        ''' This is thisIsAbstractClass exampleAbstractMethod1 method'''\n",
    "        print(f'thisIsAbstractClass.exampleAbstractMethod1', self.exampleAbstractMethod1.__doc__)\n",
    "    \n",
    "    @abstractmethod\n",
    "    def exampleAbstractMethod2(self):\n",
    "        ''' This is thisIsAbstractClass exampleAbstractMethod2 method'''\n",
    "        print(f'thisIsAbstractClass.exampleAbstractMethod2', self.exampleAbstractMethod2.__doc__)\n",
    "    "
   ]
  },
  {
   "cell_type": "code",
   "execution_count": 96,
   "metadata": {},
   "outputs": [],
   "source": [
    "class usingAbstractClass(thisIsAbstractClass):\n",
    "    def __init__(self):\n",
    "        ''' This is usingAbstractClass init method'''\n",
    "        print(f'usingAbstractClass.__init__', self.__init__.__doc__)\n",
    "    \n",
    "    def exampleAbstractMethod1(self):\n",
    "        ''' This is usingAbstractClass exampleAbstractMethod1 method'''\n",
    "        print(f'usingAbstractClass.exampleAbstractMethod1', self.exampleAbstractMethod1.__doc__)\n",
    "    \n",
    "    def exampleAbstractMethod2(self):\n",
    "        ''' This is usingAbstractClass exampleAbstractMethod2 method'''\n",
    "        print(f'usingAbstractClass.exampleAbstractMethod2', self.exampleAbstractMethod2.__doc__)"
   ]
  },
  {
   "cell_type": "code",
   "execution_count": 97,
   "metadata": {},
   "outputs": [
    {
     "name": "stdout",
     "output_type": "stream",
     "text": [
      "usingAbstractClass.__init__  This is usingAbstractClass init method\n"
     ]
    }
   ],
   "source": [
    "d = usingAbstractClass()"
   ]
  },
  {
   "cell_type": "code",
   "execution_count": 98,
   "metadata": {},
   "outputs": [
    {
     "name": "stdout",
     "output_type": "stream",
     "text": [
      "usingAbstractClass.exampleAbstractMethod1  This is usingAbstractClass exampleAbstractMethod1 method\n"
     ]
    }
   ],
   "source": [
    "d.exampleAbstractMethod1()"
   ]
  },
  {
   "cell_type": "code",
   "execution_count": 99,
   "metadata": {},
   "outputs": [
    {
     "name": "stdout",
     "output_type": "stream",
     "text": [
      "usingAbstractClass.exampleAbstractMethod2  This is usingAbstractClass exampleAbstractMethod2 method\n"
     ]
    }
   ],
   "source": [
    "d.exampleAbstractMethod2()"
   ]
  },
  {
   "cell_type": "code",
   "execution_count": null,
   "metadata": {},
   "outputs": [],
   "source": []
  }
 ],
 "metadata": {
  "kernelspec": {
   "display_name": "Python 3",
   "language": "python",
   "name": "python3"
  },
  "language_info": {
   "codemirror_mode": {
    "name": "ipython",
    "version": 3
   },
   "file_extension": ".py",
   "mimetype": "text/x-python",
   "name": "python",
   "nbconvert_exporter": "python",
   "pygments_lexer": "ipython3",
   "version": "3.7.4"
  }
 },
 "nbformat": 4,
 "nbformat_minor": 2
}
