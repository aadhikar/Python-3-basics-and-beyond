{
 "cells": [
  {
   "cell_type": "markdown",
   "metadata": {},
   "source": [
    "**lambda functions** are anonymous functions.\n",
    "\n",
    "Defined using keyword **lambda**.\n",
    "Can have multiple parameters, default parameters, arguements and keywords.\n",
    "Always has single expression"
   ]
  },
  {
   "cell_type": "code",
   "execution_count": 6,
   "metadata": {},
   "outputs": [
    {
     "name": "stdout",
     "output_type": "stream",
     "text": [
      "2025\n",
      "2025\n"
     ]
    }
   ],
   "source": [
    "# With single parameter\n",
    "square_one = lambda a : a*a\n",
    "square_two = lambda a : a**2\n",
    "print(square_one(45))\n",
    "print(square_two(45))"
   ]
  },
  {
   "cell_type": "code",
   "execution_count": 9,
   "metadata": {},
   "outputs": [
    {
     "name": "stdout",
     "output_type": "stream",
     "text": [
      "1009\n"
     ]
    }
   ],
   "source": [
    "# With multiple parameter and single expression\n",
    "add  = lambda a, b : a+b\n",
    "print(add(1000, 9))\n",
    "\n",
    "sub  = lambda a, b : (a if a>0 else 0) - (b if b>0 else 0)\n",
    "print(sub(1000, 9))"
   ]
  },
  {
   "cell_type": "code",
   "execution_count": 15,
   "metadata": {},
   "outputs": [
    {
     "data": {
      "text/plain": [
       "[0, 1, 4, 9, 16, 25, 36, 49, 64, 81]"
      ]
     },
     "execution_count": 15,
     "metadata": {},
     "output_type": "execute_result"
    }
   ],
   "source": [
    "# map applies a function (here we use lambda) to all the elements in the input list\n",
    "squared_items = list(map(lambda a: a**2, range(10)))\n",
    "squared_items"
   ]
  },
  {
   "cell_type": "code",
   "execution_count": 54,
   "metadata": {},
   "outputs": [
    {
     "data": {
      "text/plain": [
       "[9, 18, 27, 36, 45, 54, 63, 72, 81, 90, 99]"
      ]
     },
     "execution_count": 54,
     "metadata": {},
     "output_type": "execute_result"
    }
   ],
   "source": [
    "# Filter creates a list of items for which the function returns True\n",
    "even_items = list(filter(lambda a: a%9==0, range(1,100)))\n",
    "even_items"
   ]
  },
  {
   "cell_type": "code",
   "execution_count": 46,
   "metadata": {},
   "outputs": [
    {
     "data": {
      "text/plain": [
       "6"
      ]
     },
     "execution_count": 46,
     "metadata": {},
     "output_type": "execute_result"
    }
   ],
   "source": [
    "# Reduce is useful function for performing some computation on list and return the result\n",
    "from functools import reduce\n",
    "add_items = reduce((lambda cur_val, pre_val: cur_val+ pre_val), range(4))\n",
    "add_items"
   ]
  },
  {
   "cell_type": "code",
   "execution_count": null,
   "metadata": {},
   "outputs": [],
   "source": []
  }
 ],
 "metadata": {
  "kernelspec": {
   "display_name": "Python 3",
   "language": "python",
   "name": "python3"
  },
  "language_info": {
   "codemirror_mode": {
    "name": "ipython",
    "version": 3
   },
   "file_extension": ".py",
   "mimetype": "text/x-python",
   "name": "python",
   "nbconvert_exporter": "python",
   "pygments_lexer": "ipython3",
   "version": "3.7.4"
  }
 },
 "nbformat": 4,
 "nbformat_minor": 2
}
