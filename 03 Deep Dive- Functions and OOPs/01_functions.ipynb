{
 "cells": [
  {
   "cell_type": "markdown",
   "metadata": {},
   "source": [
    "**Functions** are named blocks of code, designed to do one specific job. Information passed to a function is called an\n",
    "argument, and information received by a function is called a parameter."
   ]
  },
  {
   "cell_type": "code",
   "execution_count": 8,
   "metadata": {},
   "outputs": [
    {
     "name": "stdout",
     "output_type": "stream",
     "text": [
      "Hello!\n",
      "****************************************\n"
     ]
    }
   ],
   "source": [
    "# A simple function\n",
    "def greet_user():\n",
    " \"\"\"Display a simple greeting.\"\"\"\n",
    " print(\"Hello!\")\n",
    "\n",
    "# Invoking/Calling a function\n",
    "greet_user()\n",
    "print('*'*40)"
   ]
  },
  {
   "cell_type": "code",
   "execution_count": null,
   "metadata": {},
   "outputs": [],
   "source": [
    "# Function name, documentation and .....\n",
    "# Hint: dir(greet_user)\n",
    "print('Function name -->',greet_user.__name__)\n",
    "print('Function documentation/description -->', greet_user.__doc__)"
   ]
  },
  {
   "cell_type": "code",
   "execution_count": 21,
   "metadata": {},
   "outputs": [
    {
     "name": "stdout",
     "output_type": "stream",
     "text": [
      "Hello, Leo!\n"
     ]
    }
   ],
   "source": [
    "# Passing an argument\n",
    "def greet_user(username):\n",
    " \"\"\"Display a personalized greeting.\"\"\"\n",
    " print(\"Hello, \" + username + \"!\")\n",
    "greet_user('Leo')"
   ]
  },
  {
   "cell_type": "code",
   "execution_count": 27,
   "metadata": {},
   "outputs": [
    {
     "name": "stdout",
     "output_type": "stream",
     "text": [
      "Have a bacon pizza!\n",
      "Have a pepperoni pizza!\n"
     ]
    }
   ],
   "source": [
    "# Default values for parameters\n",
    "def make_pizza(topping='bacon'):\n",
    " \"\"\"Make a single-topping pizza.\"\"\"\n",
    " print(\"Have a \" + topping + \" pizza!\")\n",
    "make_pizza()\n",
    "make_pizza('pepperoni')"
   ]
  },
  {
   "cell_type": "code",
   "execution_count": 28,
   "metadata": {},
   "outputs": [
    {
     "name": "stdout",
     "output_type": "stream",
     "text": [
      "8\n"
     ]
    }
   ],
   "source": [
    "# Returning a value\n",
    "def add_numbers(x, y):\n",
    " \"\"\"Add two numbers and return the sum.\"\"\"\n",
    " return x + y\n",
    "\n",
    "print(add_numbers(3, 5)) "
   ]
  },
  {
   "cell_type": "code",
   "execution_count": 29,
   "metadata": {},
   "outputs": [
    {
     "name": "stdout",
     "output_type": "stream",
     "text": [
      "-- Do you have any Limburger ?\n",
      "-- I'm sorry, we're all out of Limburger\n",
      "It's very runny, sir.\n",
      "It's really very, VERY runny, sir.\n",
      "----------------------------------------\n",
      "shopkeeper : Michael Palin\n",
      "client : John Cleese\n",
      "sketch : Cheese Shop Sketch\n"
     ]
    }
   ],
   "source": [
    "# function arguments, keywords\n",
    "def cheeseshop(kind, *arguments, **keywords):\n",
    "    print(\"-- Do you have any\", kind, \"?\")\n",
    "    print(\"-- I'm sorry, we're all out of\", kind)\n",
    "    for arg in arguments:\n",
    "        print(arg)\n",
    "    print(\"-\" * 40)\n",
    "    for kw in keywords:\n",
    "        print(kw, \":\", keywords[kw])\n",
    "\n",
    "cheeseshop(\"Limburger\", \"It's very runny, sir.\",\n",
    "           \"It's really very, VERY runny, sir.\",\n",
    "           shopkeeper=\"Michael Palin\",\n",
    "           client=\"John Cleese\",\n",
    "           sketch=\"Cheese Shop Sketch\")\n"
   ]
  },
  {
   "cell_type": "code",
   "execution_count": 9,
   "metadata": {},
   "outputs": [
    {
     "name": "stdout",
     "output_type": "stream",
     "text": [
      "[1, 2]\n",
      "True\n",
      "True\n",
      "False\n",
      "True\n",
      "False\n",
      "[] is False\n",
      "[0] is True\n",
      "0.0 is False\n",
      "None is False\n",
      "True is True\n",
      "Easy string is True\n"
     ]
    }
   ],
   "source": [
    "# Built-in functions\n",
    "# sorted(iteratable_item): returns a new list\n",
    "print(sorted([2,1]))\n",
    "\n",
    "# all(): returns True if all of the elements of the supplied iterable are true\n",
    "print(all([2<3,1<3]))\n",
    "\n",
    "# any(): returns True if any of the elements of the supplied iterable are true\n",
    "print(any([2<3,1>3]))\n",
    "\n",
    "# bool(): converts the value to a Boolean, using the standard Python truth testing procedure\n",
    "print(bool()) # returns False\n",
    "print(bool(2)) # returns True\n",
    "print(bool(2>3)) # returns False\n",
    "\n",
    "test = []\n",
    "print(test,'is',bool(test)) # returns False\n",
    "\n",
    "test = [0]\n",
    "print(test,'is',bool(test)) # returns True\n",
    "\n",
    "test = 0.0\n",
    "print(test,'is',bool(test)) # returns False\n",
    "\n",
    "test = None\n",
    "print(test,'is',bool(test)) # returns False\n",
    "\n",
    "test = True\n",
    "print(test,'is',bool(test)) # returns True\n",
    "\n",
    "test = 'Easy string'\n",
    "print(test,'is',bool(test)) # returns True"
   ]
  },
  {
   "cell_type": "code",
   "execution_count": null,
   "metadata": {},
   "outputs": [],
   "source": []
  }
 ],
 "metadata": {
  "kernelspec": {
   "display_name": "Python 3",
   "language": "python",
   "name": "python3"
  },
  "language_info": {
   "codemirror_mode": {
    "name": "ipython",
    "version": 3
   },
   "file_extension": ".py",
   "mimetype": "text/x-python",
   "name": "python",
   "nbconvert_exporter": "python",
   "pygments_lexer": "ipython3",
   "version": "3.7.4"
  }
 },
 "nbformat": 4,
 "nbformat_minor": 2
}
