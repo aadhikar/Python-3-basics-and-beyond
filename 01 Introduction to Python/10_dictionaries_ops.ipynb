{
 "cells": [
  {
   "cell_type": "code",
   "execution_count": 1,
   "metadata": {
    "colab": {
     "base_uri": "https://localhost:8080/",
     "height": 34
    },
    "colab_type": "code",
    "id": "BUsIaeC4qmGA",
    "outputId": "c79ecfee-824f-42b8-f416-a0002d5c6bdc"
   },
   "outputs": [
    {
     "data": {
      "text/plain": [
       "{'x': '10', 'y': 5}"
      ]
     },
     "execution_count": 1,
     "metadata": {},
     "output_type": "execute_result"
    }
   ],
   "source": [
    "# http://pythontutor.com/\n",
    "\n",
    "# Making a dictionary\n",
    "axis = {'x': '10', 'y': 5}\n",
    "axis"
   ]
  },
  {
   "cell_type": "code",
   "execution_count": 2,
   "metadata": {
    "colab": {
     "base_uri": "https://localhost:8080/",
     "height": 34
    },
    "colab_type": "code",
    "id": "m9W-mPviSCwo",
    "outputId": "318b42b5-4d26-4bad-d7fa-201cf8a118fe"
   },
   "outputs": [
    {
     "name": "stdout",
     "output_type": "stream",
     "text": [
      "1.5\n"
     ]
    }
   ],
   "source": [
    "# Add a key-value pair\n",
    "axis['speed'] = 1.5\n",
    "print(axis['speed'])"
   ]
  },
  {
   "cell_type": "code",
   "execution_count": 3,
   "metadata": {
    "colab": {
     "base_uri": "https://localhost:8080/",
     "height": 51
    },
    "colab_type": "code",
    "id": "UWwx9JZNP-B3",
    "outputId": "8963b79c-845b-4b0f-d55e-fb0ddad1e05d"
   },
   "outputs": [
    {
     "name": "stdout",
     "output_type": "stream",
     "text": [
      "10\n",
      "5\n"
     ]
    }
   ],
   "source": [
    "# Getting the value associated with a key\n",
    "print(axis['x'])\n",
    "print(axis['y'])"
   ]
  },
  {
   "cell_type": "code",
   "execution_count": 4,
   "metadata": {
    "colab": {
     "base_uri": "https://localhost:8080/",
     "height": 68
    },
    "colab_type": "code",
    "id": "0Pu195KSQxmr",
    "outputId": "969a9003-1f70-4409-c41a-2301848279d9"
   },
   "outputs": [
    {
     "name": "stdout",
     "output_type": "stream",
     "text": [
      "10\n",
      "5\n",
      "100\n"
     ]
    }
   ],
   "source": [
    "# Getting the value with get()\n",
    "print(axis.get('x'))\n",
    "print(axis.get('y'))\n",
    "# Add and get a new key-value pair at the same time\n",
    "print(axis.get('z', 100))"
   ]
  },
  {
   "cell_type": "code",
   "execution_count": 5,
   "metadata": {
    "colab": {
     "base_uri": "https://localhost:8080/",
     "height": 51
    },
    "colab_type": "code",
    "id": "fXX6XFGISPhX",
    "outputId": "9eecfa92-c7a0-415f-c37b-6391a470b3ea"
   },
   "outputs": [
    {
     "name": "stdout",
     "output_type": "stream",
     "text": [
      "yellow\n",
      "red\n"
     ]
    }
   ],
   "source": [
    "# Adding to an empty dictionary\n",
    "dict_color = {}\n",
    "dict_color['background_color'] = 'yellow'\n",
    "dict_color['font_color'] = 'red'\n",
    "print(dict_color['background_color'])\n",
    "print(dict_color.get('font_color'))"
   ]
  },
  {
   "cell_type": "code",
   "execution_count": 6,
   "metadata": {
    "colab": {
     "base_uri": "https://localhost:8080/",
     "height": 51
    },
    "colab_type": "code",
    "id": "cODzTk5dS9_b",
    "outputId": "c80cd2a7-7dae-457d-f8a7-d8e9796ca460"
   },
   "outputs": [
    {
     "name": "stdout",
     "output_type": "stream",
     "text": [
      "{'background_color': 'white', 'font_color': 'red'}\n",
      "{'background_color': 'white', 'font_color': 'blue'}\n"
     ]
    }
   ],
   "source": [
    "# Modifying values in a dictionary\n",
    "dict_color = {'background_color': 'white', 'font_color': 'red'}\n",
    "print(dict_color)\n",
    "# Update value font_color\n",
    "dict_color['font_color'] = 'blue'\n",
    "print(dict_color)"
   ]
  },
  {
   "cell_type": "code",
   "execution_count": 29,
   "metadata": {},
   "outputs": [
    {
     "name": "stdout",
     "output_type": "stream",
     "text": [
      "{'background_color': 'white', 'font_color': 'red'}\n",
      "{'background_color': 'white', 'fontColor': 'red'}\n"
     ]
    }
   ],
   "source": [
    "# Modifying keys in a dictionary\n",
    "dict_color = {'background_color': 'white', 'font_color': 'red'}\n",
    "print(dict_color)\n",
    "# Update key font_color\n",
    "dict_color['fontColor'] = dict_color.pop('font_color')\n",
    "print(dict_color)"
   ]
  },
  {
   "cell_type": "code",
   "execution_count": 24,
   "metadata": {
    "colab": {
     "base_uri": "https://localhost:8080/",
     "height": 34
    },
    "colab_type": "code",
    "id": "k_VVdoxtqjkt",
    "outputId": "6573740e-abad-403e-b065-2907d9121b84"
   },
   "outputs": [
    {
     "name": "stdout",
     "output_type": "stream",
     "text": [
      "{'background_color': 'white', 'font_color': 'green', 'width': '250px', 'height': '250px'}\n"
     ]
    }
   ],
   "source": [
    "# Updating a dictionary(update the original dictionary)\n",
    "dict_color = {'background_color': 'white', 'font_color': 'red'}\n",
    "dict_size = {'width': '250px', 'height': '250px', 'font_color': 'green'}\n",
    "# dict_color will be updated with contents of dict_size and original content of dict_color will be lost\n",
    "dict_color.update(dict_size)\n",
    "print(dict_color)"
   ]
  },
  {
   "cell_type": "code",
   "execution_count": 8,
   "metadata": {
    "colab": {
     "base_uri": "https://localhost:8080/",
     "height": 102
    },
    "colab_type": "code",
    "id": "ZtQYKRv2s7_k",
    "outputId": "adcbbc52-21ec-4f40-a29d-76f0f87df324"
   },
   "outputs": [
    {
     "name": "stdout",
     "output_type": "stream",
     "text": [
      "{'background_color': 'white', 'font_color': 'red'}\n",
      "{'width': '250px', 'height': '250px'}\n",
      "{'background_color': 'white', 'font_color': 'red', 'width': '250px', 'height': '250px'}\n"
     ]
    }
   ],
   "source": [
    "# Merging dictionaries(create new dictionary)\n",
    "dict_color = {'background_color': 'white', 'font_color': 'red'}\n",
    "dict_size = {'width': '250px', 'height': '250px'}\n",
    "print(dict_color)\n",
    "print(dict_size)\n",
    "dict_merged = {**dict_color, **dict_size}\n",
    "print(dict_merged)"
   ]
  },
  {
   "cell_type": "code",
   "execution_count": 25,
   "metadata": {},
   "outputs": [
    {
     "data": {
      "text/plain": [
       "{'font_color': None, 'width': None}"
      ]
     },
     "execution_count": 25,
     "metadata": {},
     "output_type": "execute_result"
    }
   ],
   "source": [
    "# Creating subset of a dictionary\n",
    "dict_size = {'width': '250px', 'height': '250px', 'font_color': 'green'}\n",
    "axis.fromkeys({'width', 'font_color'})"
   ]
  },
  {
   "cell_type": "code",
   "execution_count": 26,
   "metadata": {},
   "outputs": [
    {
     "data": {
      "text/plain": [
       "{'font_color': 'NA', 'width': 'NA'}"
      ]
     },
     "execution_count": 26,
     "metadata": {},
     "output_type": "execute_result"
    }
   ],
   "source": [
    "# Creating subset of a dictionary wth default value NA\n",
    "dict_size = {'width': '250px', 'height': '250px', 'font_color': 'green'}\n",
    "axis.fromkeys({'width', 'font_color'}, 'NA')"
   ]
  },
  {
   "cell_type": "code",
   "execution_count": 9,
   "metadata": {
    "colab": {
     "base_uri": "https://localhost:8080/",
     "height": 51
    },
    "colab_type": "code",
    "id": "hfjKHW5WT8Sn",
    "outputId": "74830a51-b3cc-4564-f49b-3ea763c4567e"
   },
   "outputs": [
    {
     "name": "stdout",
     "output_type": "stream",
     "text": [
      "{'background_color': 'white', 'font_color': 'red'}\n",
      "{'background_color': 'white'}\n"
     ]
    }
   ],
   "source": [
    "# Removing/Deleting a key-value pair\n",
    "dict_color = {'background_color': 'white', 'font_color': 'red'}\n",
    "print(dict_color)\n",
    "# Remove/Delete the font color\n",
    "del dict_color['font_color']\n",
    "print(dict_color)"
   ]
  },
  {
   "cell_type": "code",
   "execution_count": 10,
   "metadata": {
    "colab": {
     "base_uri": "https://localhost:8080/",
     "height": 136
    },
    "colab_type": "code",
    "id": "u4_GjwifUpLX",
    "outputId": "e2fcc003-3240-4cec-abda-0ab4946bfcdf"
   },
   "outputs": [
    {
     "name": "stdout",
     "output_type": "stream",
     "text": [
      "John speakes HTML very well!\n",
      "Mary speakes CSS very well!\n",
      "Victor speakes Javscript very well!\n",
      "Jen speakes Python very well!\n",
      "Sarah speakes C very well!\n",
      "Edward speakes Ruby very well!\n",
      "Phil speakes Python very well!\n"
     ]
    }
   ],
   "source": [
    "# Looping through all key-value pairs\n",
    "\n",
    "# Note: Levels of nesting\n",
    "'''\n",
    "Nesting is extremely useful in certain situations. However,\n",
    "be aware of making your code overly complex. If you're\n",
    "nesting items much deeper than what you see here there\n",
    "are probably simpler ways of managing your data, such as\n",
    "using classes.\n",
    "'''\n",
    "\n",
    "# Store developer's favorite languages.\n",
    "fav_languages = {\n",
    "    'john': 'HTML',\n",
    "    'mary' : 'CSS',\n",
    "    'victor' : 'javscript',\n",
    "    'jen': 'python',\n",
    "    'sarah': 'c',\n",
    "    'edward': 'ruby',\n",
    "    'phil': 'python'\n",
    "}\n",
    "\n",
    "# Show each person's favorite language.\n",
    "for dev, lang in fav_languages.items():\n",
    "    print('{0} speakes {1} very well!'.format(dev if dev[0].isupper() else dev.capitalize(), lang if lang[0].isupper() else lang.capitalize()))"
   ]
  },
  {
   "cell_type": "code",
   "execution_count": 11,
   "metadata": {
    "colab": {
     "base_uri": "https://localhost:8080/",
     "height": 136
    },
    "colab_type": "code",
    "id": "9li0qLllWv92",
    "outputId": "d3e21a48-b692-46c2-cbec-fafb274a5f59"
   },
   "outputs": [
    {
     "name": "stdout",
     "output_type": "stream",
     "text": [
      "John\n",
      "Mary\n",
      "Victor\n",
      "Jen\n",
      "Sarah\n",
      "Edward\n",
      "Phil\n"
     ]
    }
   ],
   "source": [
    "# Looping through all the keys\n",
    "# Show everyone who's taken the survey.\n",
    "for person in fav_languages.keys():\n",
    "    print(person if person[0].isupper() else person.capitalize())"
   ]
  },
  {
   "cell_type": "code",
   "execution_count": 12,
   "metadata": {
    "colab": {
     "base_uri": "https://localhost:8080/",
     "height": 136
    },
    "colab_type": "code",
    "id": "kn8L7vPeW6-P",
    "outputId": "a618abd6-99fb-4e7f-b5e2-c43fdbad3b60"
   },
   "outputs": [
    {
     "name": "stdout",
     "output_type": "stream",
     "text": [
      "HTML\n",
      "CSS\n",
      "Javscript\n",
      "Python\n",
      "C\n",
      "Ruby\n",
      "Python\n"
     ]
    }
   ],
   "source": [
    "# Looping through all the values\n",
    "# Show all the languages that have been chosen.\n",
    "for lang in fav_languages.values():\n",
    "    print(lang if lang[0].isupper() else lang.capitalize())"
   ]
  },
  {
   "cell_type": "code",
   "execution_count": 13,
   "metadata": {
    "colab": {
     "base_uri": "https://localhost:8080/",
     "height": 170
    },
    "colab_type": "code",
    "id": "qIIeKeZeYPJ-",
    "outputId": "dcbe9ad4-2f30-4e4c-d4c7-b5500279984d"
   },
   "outputs": [
    {
     "name": "stdout",
     "output_type": "stream",
     "text": [
      "{'john': 'HTML', 'mary': 'CSS', 'victor': 'javscript', 'jen': 'python', 'sarah': 'c', 'edward': 'ruby', 'phil': 'python'} \n",
      "\n",
      "Edward's favorite language is ruby.\n",
      "Jen's favorite language is python.\n",
      "John's favorite language is HTML.\n",
      "Mary's favorite language is CSS.\n",
      "Phil's favorite language is python.\n",
      "Sarah's favorite language is c.\n",
      "Victor's favorite language is javscript.\n"
     ]
    }
   ],
   "source": [
    "# Looping through all the keys in order\n",
    "# Show each developer's favorite language, in order by the developer's name.\n",
    "print(fav_languages, '\\n')\n",
    "for dev in sorted(fav_languages.keys()):\n",
    "    print(\"{0}'s favorite language is {1}.\".format(dev if dev[0].isupper() else dev.capitalize(), fav_languages.get(dev)))"
   ]
  },
  {
   "cell_type": "code",
   "execution_count": 14,
   "metadata": {
    "colab": {
     "base_uri": "https://localhost:8080/",
     "height": 34
    },
    "colab_type": "code",
    "id": "sxbqq5j-ZyD6",
    "outputId": "5a3b68f7-e2a7-40af-9166-fb9755f90d39"
   },
   "outputs": [
    {
     "name": "stdout",
     "output_type": "stream",
     "text": [
      "7\n"
     ]
    }
   ],
   "source": [
    "# Length of a Dictionary\n",
    "print(len(fav_languages))"
   ]
  },
  {
   "cell_type": "code",
   "execution_count": 15,
   "metadata": {
    "colab": {
     "base_uri": "https://localhost:8080/",
     "height": 153
    },
    "colab_type": "code",
    "id": "wp7vw9HQcHFP",
    "outputId": "6506702c-0db0-4d8b-94df-73fd6aed7635"
   },
   "outputs": [
    {
     "name": "stdout",
     "output_type": "stream",
     "text": [
      "last: fermi\n",
      "first: enrico\n",
      "username: efermi\n",
      "last: curie\n",
      "first: marie\n",
      "username: mcurie\n"
     ]
    }
   ],
   "source": [
    "# Storing dictionaries in a list\n",
    "# Start with an empty list.\n",
    "users_list = []\n",
    "# Make a new user, and add them to the list. \n",
    "new_user = {\n",
    "    'last': 'fermi',\n",
    "    'first': 'enrico',\n",
    "    'username': 'efermi',\n",
    "    }\n",
    "users_list.append(new_user)\n",
    "\n",
    "# Make another new user, and add them as well.\n",
    "new_user = {\n",
    " 'last': 'curie',\n",
    " 'first': 'marie',\n",
    " 'username': 'mcurie',\n",
    " }\n",
    "users_list.append(new_user)\n",
    "\n",
    "# Show all information about each user.\n",
    "for user_dict in users_list:\n",
    "    for k, v in user_dict.items():\n",
    "        print(k + \": \" + v) "
   ]
  },
  {
   "cell_type": "code",
   "execution_count": 16,
   "metadata": {
    "colab": {
     "base_uri": "https://localhost:8080/",
     "height": 119
    },
    "colab_type": "code",
    "id": "33PzbhgqdZtF",
    "outputId": "cfc0fbd2-6f8e-4dc2-be76-3e188f4ac0e3"
   },
   "outputs": [
    {
     "name": "stdout",
     "output_type": "stream",
     "text": [
      "last: fermi\n",
      "first: enrico\n",
      "username: efermi\n",
      "last: curie\n",
      "first: marie\n",
      "username: mcurie\n"
     ]
    }
   ],
   "source": [
    "# You can also define a list of dictionaries directly, without using append():\n",
    "# Define a list of users, where each user is represented by a dictionary.\n",
    "users = [\n",
    " {\n",
    " 'last': 'fermi',\n",
    " 'first': 'enrico',\n",
    " 'username': 'efermi',\n",
    " },\n",
    " {\n",
    " 'last': 'curie',\n",
    " 'first': 'marie',\n",
    " 'username': 'mcurie',\n",
    " },\n",
    "]\n",
    "# Show all information about each user.\n",
    "for user_dict in users:\n",
    "    for k, v in user_dict.items():\n",
    "        print(k + \": \" + v)"
   ]
  },
  {
   "cell_type": "code",
   "execution_count": 17,
   "metadata": {
    "colab": {
     "base_uri": "https://localhost:8080/",
     "height": 204
    },
    "colab_type": "code",
    "id": "suCZLEkhiAi2",
    "outputId": "e973693f-e7ce-4bc9-a0a3-ba4ccabbab5d"
   },
   "outputs": [
    {
     "name": "stdout",
     "output_type": "stream",
     "text": [
      "jen: \n",
      "\tpython\n",
      "\truby\n",
      "sarah: \n",
      "\tc\n",
      "edward: \n",
      "\truby\n",
      "\tgo\n",
      "phil: \n",
      "\tpython\n",
      "\thaskell\n"
     ]
    }
   ],
   "source": [
    "# Storing lists in a dictionary\n",
    "# Store multiple languages for each person.\n",
    "fav_languages = {\n",
    " 'jen': ['python', 'ruby'],\n",
    " 'sarah': ['c'],\n",
    " 'edward': ['ruby', 'go'],\n",
    " 'phil': ['python', 'haskell'],\n",
    "}\n",
    "# Show all responses for each person.\n",
    "for name, langs in fav_languages.items():\n",
    "    print(name + \": \")\n",
    "    for lang in langs:\n",
    "        print(\"\\t\" + lang)"
   ]
  },
  {
   "cell_type": "code",
   "execution_count": 18,
   "metadata": {
    "colab": {
     "base_uri": "https://localhost:8080/",
     "height": 153
    },
    "colab_type": "code",
    "id": "ExmDpQDFiQp2",
    "outputId": "43ce3043-94c4-4582-b1fb-8b646adf2500"
   },
   "outputs": [
    {
     "name": "stdout",
     "output_type": "stream",
     "text": [
      "\n",
      "Username: aeinstein\n",
      "\tFull name: Albert Einstein\n",
      "\tLocation: Princeton\n",
      "\n",
      "Username: mcurie\n",
      "\tFull name: Marie Curie\n",
      "\tLocation: Paris\n"
     ]
    }
   ],
   "source": [
    "# Storing dictionaries in a dictionary\n",
    "users = {\n",
    " 'aeinstein': {\n",
    " 'first': 'albert',\n",
    " 'last': 'einstein',\n",
    " 'location': 'princeton',\n",
    " },\n",
    " 'mcurie': {\n",
    " 'first': 'marie',\n",
    " 'last': 'curie',\n",
    " 'location': 'paris',\n",
    " },\n",
    " }\n",
    "for username, user_dict in users.items():\n",
    "    print(\"\\nUsername: \" + username)\n",
    "    full_name = user_dict['first'] + \" \"\n",
    "    full_name += user_dict['last']\n",
    "    location = user_dict['location']\n",
    "    print(\"\\tFull name: \" + full_name.title())\n",
    "    print(\"\\tLocation: \" + location.title())"
   ]
  },
  {
   "cell_type": "code",
   "execution_count": 19,
   "metadata": {
    "colab": {
     "base_uri": "https://localhost:8080/",
     "height": 204
    },
    "colab_type": "code",
    "id": "UieMHurVjYOq",
    "outputId": "4882ddb7-7888-4349-ddcc-7dd0310dc365"
   },
   "outputs": [
    {
     "name": "stdout",
     "output_type": "stream",
     "text": [
      "jen:\n",
      "\tpython\n",
      "\truby\n",
      "sarah:\n",
      "\tc\n",
      "edward:\n",
      "\truby\n",
      "\tgo\n",
      "phil:\n",
      "\tpython\n",
      "\thaskell\n"
     ]
    }
   ],
   "source": [
    "# Preserving the order of keys and values\n",
    "from collections import OrderedDict\n",
    "# Store each person's languages, keeping track of who respoded first.\n",
    "fav_languages = OrderedDict()\n",
    "fav_languages['jen'] = ['python', 'ruby']\n",
    "fav_languages['sarah'] = ['c']\n",
    "fav_languages['edward'] = ['ruby', 'go']\n",
    "fav_languages['phil'] = ['python', 'haskell']\n",
    "\n",
    "# Display the results, in the same order they were entered.\n",
    "for name, langs in fav_languages.items():\n",
    "    print(name + \":\")\n",
    "    for lang in langs:\n",
    "        print(\"\\t\" + lang)"
   ]
  },
  {
   "cell_type": "markdown",
   "metadata": {},
   "source": [
    "## Excercises"
   ]
  },
  {
   "cell_type": "code",
   "execution_count": 23,
   "metadata": {
    "colab": {
     "base_uri": "https://localhost:8080/",
     "height": 34
    },
    "colab_type": "code",
    "id": "N9MNGojZq_cS",
    "outputId": "5457df99-24d2-4d5a-aaf8-08d98ef2b5bf"
   },
   "outputs": [
    {
     "name": "stdout",
     "output_type": "stream",
     "text": [
      "Number of aliens created: 1000000\n"
     ]
    }
   ],
   "source": [
    "# A million aliens\n",
    "list_of_dict = []\n",
    "# Make a million green aliens, worth 5 points each. Have them all start in one row.\n",
    "num_of_aliens = 1000000\n",
    "# import uuid modue to create unique IDs\n",
    "import uuid\n",
    "for dict_num in range(num_of_aliens):\n",
    "    new_dict = {}\n",
    "    new_dict['alien_id'] = uuid.uuid1().int,\n",
    "    new_dict['alien_color'] = 'green'\n",
    "    new_dict['points'] = 5\n",
    "    new_dict['x'] = 20 * dict_num\n",
    "    new_dict['y'] = 0\n",
    "    list_of_dict.append(new_dict)\n",
    "# Prove the list contains a million aliens.\n",
    "num_aliens = len(list_of_dict)\n",
    "print(\"Number of aliens created:\", end=\" \")\n",
    "print(num_aliens)"
   ]
  },
  {
   "cell_type": "code",
   "execution_count": 34,
   "metadata": {},
   "outputs": [
    {
     "data": {
      "text/plain": [
       "{'background_color': 'white',\n",
       " 'font_color': ['green', 'red'],\n",
       " 'width': '250px',\n",
       " 'height': '250px'}"
      ]
     },
     "execution_count": 34,
     "metadata": {},
     "output_type": "execute_result"
    }
   ],
   "source": [
    "# Merge two dictionaries and add values of common keys\n",
    "\n",
    "dict_color = {'background_color': 'white', 'font_color': 'red'}\n",
    "dict_size = {'width': '250px', 'height': '250px', 'font_color': 'green'}\n",
    "\n",
    "def mergeDict(dict1, dict2):\n",
    "    ''' Merge dictionaries and keep values of common keys in list'''\n",
    "    res_dict = {**dict1, **dict2}\n",
    "    for key, value in res_dict.items():\n",
    "        if key in dict1 and key in dict2:\n",
    "            res_dict[key] = [value , dict1[key]]\n",
    "    return res_dict\n",
    " \n",
    "# Invoke method\n",
    "mergeDict(dict_color, dict_size)"
   ]
  },
  {
   "cell_type": "code",
   "execution_count": null,
   "metadata": {},
   "outputs": [],
   "source": []
  }
 ],
 "metadata": {
  "colab": {
   "collapsed_sections": [],
   "name": "dictionaries.ipynb",
   "provenance": []
  },
  "kernelspec": {
   "display_name": "Python 3",
   "language": "python",
   "name": "python3"
  },
  "language_info": {
   "codemirror_mode": {
    "name": "ipython",
    "version": 3
   },
   "file_extension": ".py",
   "mimetype": "text/x-python",
   "name": "python",
   "nbconvert_exporter": "python",
   "pygments_lexer": "ipython3",
   "version": "3.7.4"
  }
 },
 "nbformat": 4,
 "nbformat_minor": 1
}
