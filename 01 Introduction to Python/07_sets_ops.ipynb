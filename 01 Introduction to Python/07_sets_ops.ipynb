{
 "cells": [
  {
   "cell_type": "code",
   "execution_count": null,
   "metadata": {},
   "outputs": [],
   "source": [
    "'''\n",
    "Sets\n",
    "    Set is an unordered collection with no duplicate elements.\n",
    "    Basic uses include membership testing and eliminating duplicate entries.\n",
    "    Set objects also support mathematical operations like union, intersection, difference, and symmetric difference.\n",
    "'''"
   ]
  },
  {
   "cell_type": "code",
   "execution_count": 12,
   "metadata": {},
   "outputs": [
    {
     "data": {
      "text/plain": [
       "({1, 2, 3, 4, 5}, {3, 4, 5, 6}, {4, 7, 8, 9})"
      ]
     },
     "execution_count": 12,
     "metadata": {},
     "output_type": "execute_result"
    }
   ],
   "source": [
    "a = {1, 2, 3, 4, 5}\n",
    "b = {3, 4, 5, 6}\n",
    "c = {4, 7, 8, 9}\n",
    "a, b, c"
   ]
  },
  {
   "cell_type": "code",
   "execution_count": 25,
   "metadata": {},
   "outputs": [
    {
     "name": "stdout",
     "output_type": "stream",
     "text": [
      "{1, 2, 3, 4, 5, 6, 7, 8, 9}\n",
      "{1, 2, 3, 4, 5, 6, 7, 8, 9}\n",
      "{1, 2, 3, 4, 5, 6, 7, 8, 9}\n",
      "{1, 2, 3, 4, 5, 6, 7, 8, 9}\n",
      "{1, 2, 3, 4, 5, 6, 7, 8, 9}\n"
     ]
    }
   ],
   "source": [
    "# union() or | will create a new set that contains all the elements from the sets provided\n",
    "# all below statements will produce same output\n",
    "a = {1, 2, 3, 4, 5}\n",
    "b = {3, 4, 5, 6}\n",
    "c = {4, 7, 8, 9}\n",
    "test_a = a | b | c\n",
    "test_b = a.union(b).union(c)\n",
    "test_c = a.union(b, c)\n",
    "test_d = b.union(a, c)\n",
    "test_e = c.union(b, a)\n",
    "\n",
    "print(test_a)\n",
    "print(test_b)\n",
    "print(test_c)\n",
    "print(test_d)\n",
    "print(test_e)"
   ]
  },
  {
   "cell_type": "code",
   "execution_count": 26,
   "metadata": {},
   "outputs": [
    {
     "name": "stdout",
     "output_type": "stream",
     "text": [
      "{4}\n",
      "{4}\n",
      "{4}\n",
      "{4}\n",
      "{4}\n"
     ]
    }
   ],
   "source": [
    "# intersection or & will return a set containing only the elements that are common to all of them\n",
    "a = {1, 2, 3, 4, 5}\n",
    "b = {3, 4, 5, 6}\n",
    "c = {4, 7, 8, 9}\n",
    "test_a = a & b & c\n",
    "test_b = a.intersection(b).intersection(c)\n",
    "test_c = a.intersection(b, c)\n",
    "test_d = b.intersection(a, c)\n",
    "test_e = c.intersection(b, a)\n",
    "\n",
    "print(test_a)\n",
    "print(test_b)\n",
    "print(test_c)\n",
    "print(test_d)\n",
    "print(test_e)"
   ]
  },
  {
   "cell_type": "code",
   "execution_count": 33,
   "metadata": {},
   "outputs": [
    {
     "name": "stdout",
     "output_type": "stream",
     "text": [
      "{1, 2}\n",
      "{1, 2}\n",
      "{3, 5, 6}\n",
      "{3, 5, 6}\n",
      "{8, 9, 7}\n",
      "{8, 9, 7}\n"
     ]
    }
   ],
   "source": [
    "# difference or - will return only the elements that are in one of the sets\n",
    "# Note: ifference or - will work with 2 sets at a time\n",
    "a = {1, 2, 3, 4, 5}\n",
    "b = {3, 4, 5, 6}\n",
    "c = {4, 7, 8, 9}\n",
    "test_a = a - b\n",
    "test_b = a.difference(b)\n",
    "test_c = b - c\n",
    "test_d = b.difference(c)\n",
    "test_e = c - a\n",
    "test_f = c.difference(a)\n",
    "\n",
    "print(test_a)\n",
    "print(test_b)\n",
    "print(test_c)\n",
    "print(test_d)\n",
    "print(test_e)\n",
    "print(test_f)"
   ]
  },
  {
   "cell_type": "code",
   "execution_count": 36,
   "metadata": {},
   "outputs": [
    {
     "name": "stdout",
     "output_type": "stream",
     "text": [
      "{1, 2, 6}\n",
      "{1, 2, 6}\n",
      "{3, 5, 6, 7, 8, 9}\n",
      "{3, 5, 6, 7, 8, 9}\n",
      "{1, 2, 3, 5, 7, 8, 9}\n",
      "{1, 2, 3, 5, 7, 8, 9}\n"
     ]
    }
   ],
   "source": [
    "# symmetric_difference or ^ will return all the elements that are not common between them\n",
    "a = {1, 2, 3, 4, 5}\n",
    "b = {3, 4, 5, 6}\n",
    "c = {4, 7, 8, 9}\n",
    "test_a = a ^ b\n",
    "test_b = a.symmetric_difference(b)\n",
    "test_c = b ^ c\n",
    "test_d = b.symmetric_difference(c)\n",
    "test_e = c ^ a\n",
    "test_f = c.symmetric_difference(a)\n",
    "\n",
    "print(test_a)\n",
    "print(test_b)\n",
    "print(test_c)\n",
    "print(test_d)\n",
    "print(test_e)\n",
    "print(test_f)"
   ]
  },
  {
   "cell_type": "code",
   "execution_count": 44,
   "metadata": {},
   "outputs": [
    {
     "name": "stdout",
     "output_type": "stream",
     "text": [
      "False\n",
      "False\n",
      "True\n",
      "True\n"
     ]
    }
   ],
   "source": [
    "# Superset check\n",
    "# issuperset() method or>= returns True if all elements of a set A occupies set B\n",
    "# which is passed as an argument and returns false if all elements of B not present in A\n",
    "a = {1, 2, 3, 4, 5}\n",
    "b = {3, 4, 5, 6}\n",
    "c = {3, 4, 5, 6, 7, 8}\n",
    "test_a = a >= b\n",
    "test_b = a.issuperset(b)\n",
    "test_c = c >= b\n",
    "test_d = c.issuperset(b)\n",
    "\n",
    "print(test_a)\n",
    "print(test_b)\n",
    "print(test_c)\n",
    "print(test_d)"
   ]
  },
  {
   "cell_type": "code",
   "execution_count": 49,
   "metadata": {},
   "outputs": [
    {
     "name": "stdout",
     "output_type": "stream",
     "text": [
      "True\n",
      "True\n",
      "False\n",
      "False\n"
     ]
    }
   ],
   "source": [
    "# Subset check\n",
    "# The issubset() method or <= returns True if all elements of a set are present \n",
    "# in another set (passed as an argument). If not, it returns False\n",
    "a = {1, 2, 3, 4, 5, 6}\n",
    "b = {3, 4, 5, 6}\n",
    "c = {3, 4, 5, 6, 7, 8}\n",
    "test_a = b <= a\n",
    "test_b = b.issubset(a)\n",
    "test_c = c <= b\n",
    "test_d = c.issubset(b)\n",
    "\n",
    "print(test_a)\n",
    "print(test_b)\n",
    "print(test_c)\n",
    "print(test_d)"
   ]
  },
  {
   "cell_type": "code",
   "execution_count": 51,
   "metadata": {},
   "outputs": [
    {
     "name": "stdout",
     "output_type": "stream",
     "text": [
      "True\n",
      "False\n"
     ]
    }
   ],
   "source": [
    "# Disjoint (no common elements) check\n",
    "# The isdisjoint() method returns True if two sets are disjoint sets. If not, it returns False\n",
    "a = {1, 2}\n",
    "b = {3, 4, 5, 6}\n",
    "c = {6, 7, 8}\n",
    "test_a = b.isdisjoint(a)\n",
    "test_b = c.isdisjoint(b)\n",
    "\n",
    "print(test_a)\n",
    "print(test_b)"
   ]
  },
  {
   "cell_type": "code",
   "execution_count": 39,
   "metadata": {},
   "outputs": [
    {
     "name": "stdout",
     "output_type": "stream",
     "text": [
      "True\n",
      "False\n",
      "True\n",
      "False\n"
     ]
    }
   ],
   "source": [
    "# Membership check\n",
    "a = {1, 2, 3, 4, 5}\n",
    "b = {3, 4, 5, 6}\n",
    "print(1 in a)\n",
    "print(14 in a)\n",
    "print(4 in b)\n",
    "print(4 not in b)"
   ]
  },
  {
   "cell_type": "code",
   "execution_count": 56,
   "metadata": {},
   "outputs": [
    {
     "name": "stdout",
     "output_type": "stream",
     "text": [
      "{1, 2, 3, 4, 5, 100}\n"
     ]
    }
   ],
   "source": [
    "# Add element\n",
    "# Note: If you try to add more than one element it will throw TypeError.\n",
    "# Hint: Use update method to add more than one element to the set\n",
    "a = {1, 2, 3, 4, 5}\n",
    "a.add(100)\n",
    "print(a)"
   ]
  },
  {
   "cell_type": "code",
   "execution_count": 55,
   "metadata": {},
   "outputs": [
    {
     "name": "stdout",
     "output_type": "stream",
     "text": [
      "{1, 2, 3, 4, 5, 200, 300}\n"
     ]
    }
   ],
   "source": [
    "# Update elements\n",
    "a = {1, 2, 3, 4, 5}\n",
    "a.update({200, 300})\n",
    "print(a)"
   ]
  },
  {
   "cell_type": "code",
   "execution_count": 63,
   "metadata": {},
   "outputs": [
    {
     "name": "stdout",
     "output_type": "stream",
     "text": [
      "{2, 3, 4, 5, 100}\n",
      "{3, 4, 5, 100}\n"
     ]
    }
   ],
   "source": [
    "# Remove/Discard element\n",
    "a = {1, 2, 3, 4, 5, 100}\n",
    "a.remove(1)\n",
    "# Can't remove already removed element\n",
    "# a.remove(1) # will throw KeyError\n",
    "print(a)\n",
    "a.discard(2)\n",
    "a.discard(2)\n",
    "print(a)"
   ]
  },
  {
   "cell_type": "code",
   "execution_count": 65,
   "metadata": {},
   "outputs": [],
   "source": [
    "inPlaceOps = '''\n",
    "\n",
    "METHOD  \t\t\t\tIN-PLACE OPERATION  \t\tIN-PLACE METHOD\n",
    "union   \t\t\t\ts |= t \t\t\t\t\t\tupdate\n",
    "intersection    \t\ts &= t \t\t\t\t\t\tintersection_update\n",
    "difference \t\t\t\ts -= t \t\t\t\t\t\tdifference_update\n",
    "symmetric_difference    s ^= t \t\t\t\t\t\tsymmetric_difference_update\n",
    "\n",
    "'''"
   ]
  },
  {
   "cell_type": "code",
   "execution_count": null,
   "metadata": {},
   "outputs": [],
   "source": []
  }
 ],
 "metadata": {
  "kernelspec": {
   "display_name": "Python 3",
   "language": "python",
   "name": "python3"
  },
  "language_info": {
   "codemirror_mode": {
    "name": "ipython",
    "version": 3
   },
   "file_extension": ".py",
   "mimetype": "text/x-python",
   "name": "python",
   "nbconvert_exporter": "python",
   "pygments_lexer": "ipython3",
   "version": "3.7.4"
  }
 },
 "nbformat": 4,
 "nbformat_minor": 2
}
