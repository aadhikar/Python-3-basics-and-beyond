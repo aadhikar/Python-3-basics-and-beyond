{
 "cells": [
  {
   "cell_type": "code",
   "execution_count": 2,
   "metadata": {},
   "outputs": [
    {
     "name": "stdout",
     "output_type": "stream",
     "text": [
      "[]\n",
      "[1, 2, 3]\n",
      "[1, 'Hello', 3.4]\n",
      "3\n",
      "<class 'list'>\n"
     ]
    }
   ],
   "source": [
    "'''\n",
    "List is created by placing all the items (elements) inside a square bracket [ ], separated by commas.\n",
    "It can have any number of items and they may be of different types (integer, float, string etc.).\n",
    "To use Lists as Stacks(FILO):\n",
    "\t1) list.append() -- Adds element to list at the end\n",
    "\t2) list.pop() -- Removes LAST element from list \n",
    "To use Lists as Queues(FIFO):\n",
    "\t1) from collections import deque\n",
    "\t2) list.append() -- Adds element to list at the end\n",
    "\t3) list.popleft() -- Removes FIRST element from list \n",
    "Note:\n",
    "\tTo perform del, remove and pop operations on list, list must have value or index.\n",
    "\t\n",
    "\tExamples:\n",
    "\t\t>>> my_list_1 = [4, 5, 6]\n",
    "\t\t>>> my_list_1.remove(7)\n",
    "\t\tTraceback (most recent call last):\n",
    "\t\t  File \"<stdin>\", line 1, in <module>\n",
    "\t\tValueError: list.remove(x): x not in list\n",
    "\t\t>>> del my_list_1[117]\n",
    "\t\tTraceback (most recent call last):\n",
    "\t\t  File \"<stdin>\", line 1, in <module>\n",
    "\t\tIndexError: list assignment index out of range\n",
    "\t\t>>> my_list_1.pop(1000)\n",
    "\t\tTraceback (most recent call last):\n",
    "\t\t  File \"<stdin>\", line 1, in <module>\n",
    "\t\tIndexError: pop index out of range\n",
    "'''\n",
    "\n",
    "# empty list\n",
    "my_list = []\n",
    "print(my_list)\n",
    "\n",
    "# list of integers\n",
    "my_list = [1, 2, 3]\n",
    "print(my_list)\n",
    "\n",
    "# list with mixed datatypes\n",
    "my_list = [1, \"Hello\", 3.4]\n",
    "print(my_list)\n",
    "print(len(my_list))\n",
    "print(type(my_list))"
   ]
  },
  {
   "cell_type": "code",
   "execution_count": 13,
   "metadata": {},
   "outputs": [
    {
     "name": "stdout",
     "output_type": "stream",
     "text": [
      "del --> removes the item at a specific index\n",
      "remove() --> removes the first matching value, not a specific index\n",
      "pop() --> removes the item at a specific index and returns it\n",
      "10\n"
     ]
    }
   ],
   "source": [
    "# Accessing Values in Lists\n",
    "my_list_1 = ['del --> removes the item at a specific index', 'remove() --> removes the first matching value, not a specific index', 'pop() --> removes the item at a specific index and returns it', 'physics', 'chemistry', 1997, 2000];\n",
    "my_list_2 = [1, 2, 3, 4, 5, 6, 7, 8, 9, 10];\n",
    "print(my_list_1[0])\n",
    "print(my_list_1[1])\n",
    "print(my_list_1[2])\n",
    "print(my_list_2[len(my_list_2)-1])"
   ]
  },
  {
   "cell_type": "code",
   "execution_count": 4,
   "metadata": {},
   "outputs": [
    {
     "name": "stdout",
     "output_type": "stream",
     "text": [
      "19898\n"
     ]
    }
   ],
   "source": [
    "# Updating Lists\n",
    "my_list_2[2] = '19898'\n",
    "print(my_list_2[2])"
   ]
  },
  {
   "cell_type": "code",
   "execution_count": 5,
   "metadata": {},
   "outputs": [
    {
     "name": "stdout",
     "output_type": "stream",
     "text": [
      "\n",
      "my_list_1 before del operation\n",
      "del --> removes the item at a specific index\n",
      "my_list_1 after del operation\n",
      "['remove() --> removes the first matching value, not a specific index', 'pop() --> removes the item at a specific index and returns it', 'physics', 'chemistry', 1997, 2000]\n"
     ]
    }
   ],
   "source": [
    "# Delete List element\n",
    "print('\\nmy_list_1 before del operation')\n",
    "print(my_list_1[0])\n",
    "del my_list_1[0]\n",
    "del my_list # delete entire variable\n",
    "print('my_list_1 after del operation')\n",
    "print(my_list_1)"
   ]
  },
  {
   "cell_type": "code",
   "execution_count": 16,
   "metadata": {},
   "outputs": [
    {
     "name": "stdout",
     "output_type": "stream",
     "text": [
      "\n",
      "my_list_1 before remove() operation\n",
      "[1, 2, 3, 4, 5, 6, 7, 8, 9, 10] \n",
      "\n",
      "\n",
      " my_list_1 after remove() operation\n",
      "[1, 2, 4, 5, 6, 7, 8, 9, 10]\n"
     ]
    }
   ],
   "source": [
    "# Remove List element by value\n",
    "print('\\nmy_list_1 before remove() operation')\n",
    "my_list_3 = [1, 2, 3, 4, 5, 6, 7, 8, 9, 10];\n",
    "print(my_list_3,'\\n')\n",
    "my_list_3.remove(3)\n",
    "print('\\n', 'my_list_1 after remove() operation')\n",
    "print(my_list_3)"
   ]
  },
  {
   "cell_type": "code",
   "execution_count": 24,
   "metadata": {},
   "outputs": [
    {
     "name": "stdout",
     "output_type": "stream",
     "text": [
      "\n",
      "my_list_1 before pop() operation\n",
      "['pop() --> removes the item at a specific index and returns it', 'physics', 'chemistry', 1997, 2000]\n",
      "my_list_1 after pop() operation\n",
      "['physics', 'chemistry', 1997, 2000]\n"
     ]
    }
   ],
   "source": [
    "# Pop List element by index (index value is optional in pop(index = list[-1]))\n",
    "print('\\nmy_list_1 before pop() operation')\n",
    "print(my_list_1)\n",
    "my_list_1.pop(0)\n",
    "print('my_list_1 after pop() operation')\n",
    "print(my_list_1)"
   ]
  },
  {
   "cell_type": "code",
   "execution_count": 25,
   "metadata": {},
   "outputs": [
    {
     "name": "stdout",
     "output_type": "stream",
     "text": [
      "['physics', 'chemistry', 1997, 2000, 'List appended']\n"
     ]
    }
   ],
   "source": [
    "# Appending (inserts at the end of the list) a element to large list\n",
    "my_list_1.append('List appended')\n",
    "print(my_list_1)"
   ]
  },
  {
   "cell_type": "code",
   "execution_count": 26,
   "metadata": {},
   "outputs": [
    {
     "name": "stdout",
     "output_type": "stream",
     "text": [
      "['Inserted me', 'physics', 'chemistry', 1997, 2000, 'List appended']\n"
     ]
    }
   ],
   "source": [
    "# Insert List element (below example inserts element in 0th index)\n",
    "my_list_1.insert(len(my_list_1) - len(my_list_1), 'Inserted me')\n",
    "print(my_list_1)"
   ]
  },
  {
   "cell_type": "code",
   "execution_count": 17,
   "metadata": {},
   "outputs": [
    {
     "name": "stdout",
     "output_type": "stream",
     "text": [
      "['I', 'am', 'not', 'Here']\n",
      "['Actually', 'I', 'am', 'Here']\n",
      "Extending list with String\n",
      "['I', 'am', 'not', 'Here', 'Actually', 'I', 'am', 'Here', 'H', 'e', 'l', 'l', 'o', '!', '!', '!']\n"
     ]
    }
   ],
   "source": [
    "# Extending List or concanating 2 lists\n",
    "concatinate_list_1 = ['I', 'am', 'not', 'Here']\n",
    "concatinate_list_2 = ['Actually', 'I', 'am', 'Here']\n",
    "concatinate_string = 'Hello!!!'\n",
    "\n",
    "print(concatinate_list_1)\n",
    "concatinate_list_1.extend(concatinate_list_2)\n",
    "print(concatinate_list_2)\n",
    "\n",
    "print('Extending list with String')\n",
    "concatinate_list_1.extend(concatinate_string)\n",
    "print(concatinate_list_1)"
   ]
  },
  {
   "cell_type": "code",
   "execution_count": 46,
   "metadata": {},
   "outputs": [
    {
     "name": "stdout",
     "output_type": "stream",
     "text": [
      "Original list for permanent sorting: ['Grape', 'Raspberry', 'Blueberry']\n",
      "Sorted permanently alphabetical ascending order: ['Blueberry', 'Grape', 'Raspberry']\n",
      "Sorted permanently alphabetical descending order: ['Raspberry', 'Grape', 'Blueberry']\n",
      "Final list after permanent sorting: ['Raspberry', 'Grape', 'Blueberry'] \n",
      "\n",
      "Original list for temporary sorting: ['Grape', 'Raspberry', 'Blueberry', 'Mango']\n",
      "['Blueberry', 'Grape', 'Mango', 'Raspberry']\n",
      "['Raspberry', 'Mango', 'Grape', 'Blueberry']\n",
      "Final list after temporary sorting: ['Grape', 'Raspberry', 'Blueberry', 'Mango']\n"
     ]
    }
   ],
   "source": [
    "# Sorting lists\n",
    "concatinate_list_1 = ['Grape', 'Raspberry', 'Blueberry']\n",
    "print('Original list for permanent sorting:', concatinate_list_1)\n",
    "concatinate_list_1.sort()\n",
    "print('Sorted permanently alphabetical ascending order:', concatinate_list_1)\n",
    "concatinate_list_1.sort(reverse=True)\n",
    "print('Sorted permanently alphabetical descending order:', concatinate_list_1)\n",
    "print('Final list after permanent sorting:', concatinate_list_1, '\\n')\n",
    "\n",
    "#Sorting a list temporarily\n",
    "concatinate_list_1 = ['Grape', 'Raspberry', 'Blueberry', 'Mango']\n",
    "print('Original list for temporary sorting:', concatinate_list_1)\n",
    "print(sorted(concatinate_list_1))\n",
    "print(sorted(concatinate_list_1, reverse=True))\n",
    "print('Final list after temporary sorting:', concatinate_list_1)"
   ]
  },
  {
   "cell_type": "code",
   "execution_count": 22,
   "metadata": {},
   "outputs": [
    {
     "name": "stdout",
     "output_type": "stream",
     "text": [
      "['not', 'am', 'I', 'Here', 'App']\n",
      "['not', 'am', 'I', 'Here', 'App']\n"
     ]
    }
   ],
   "source": [
    "# Reversing lists\n",
    "print(concatinate_list_1[::-1])\n",
    "concatinate_list_1.reverse()\n",
    "print(concatinate_list_1)"
   ]
  },
  {
   "cell_type": "code",
   "execution_count": 23,
   "metadata": {},
   "outputs": [
    {
     "name": "stdout",
     "output_type": "stream",
     "text": [
      "['not', 'am', 'I', 'Here', 'App', 'not', 'am', 'I', 'Here', 'App']\n"
     ]
    }
   ],
   "source": [
    "# Repetition\n",
    "print(concatinate_list_1*2)"
   ]
  },
  {
   "cell_type": "code",
   "execution_count": 24,
   "metadata": {},
   "outputs": [
    {
     "name": "stdout",
     "output_type": "stream",
     "text": [
      "Regular --> [0, 1, 4, 9, 16, 25, 36, 49, 64, 81]\n",
      "<class 'list'>\n",
      "With if statement --> [0, 4, 16, 36, 64]\n",
      "<class 'list'>\n",
      "With if else statement --> [0, False, 4, False, 16, False, 36, False, 64, False]\n",
      "<class 'list'>\n"
     ]
    }
   ],
   "source": [
    "# List comprehension\n",
    "regular = [x**2 for x in range(10)]\n",
    "print('Regular -->', regular)\n",
    "print(type(regular))\n",
    "\n",
    "with_if = [x**2 for x in range(10) if x%2==0]\n",
    "print('With if statement -->', with_if)\n",
    "print(type(with_if))\n",
    "\n",
    "with_ifelse = [x**2 if x%2==0 else False for x in range(10)]\n",
    "print('With if else statement -->', with_ifelse)\n",
    "print(type(with_ifelse))"
   ]
  },
  {
   "cell_type": "markdown",
   "metadata": {},
   "source": [
    "## Exercise Q&A"
   ]
  },
  {
   "cell_type": "code",
   "execution_count": 1,
   "metadata": {},
   "outputs": [
    {
     "data": {
      "text/plain": [
       "['c', 'b', 'a']"
      ]
     },
     "execution_count": 1,
     "metadata": {},
     "output_type": "execute_result"
    }
   ],
   "source": [
    "# How to swap elements in a list?\n",
    "my_list = [\"a\", \"b\", \"c\"]\n",
    "idx_one = my_list.index(\"a\")\n",
    "idx_two = my_list.index(\"c\")\n",
    "my_list[idx_one], my_list[idx_two] = my_list[idx_two], my_list[idx_one]\n",
    "my_list"
   ]
  },
  {
   "cell_type": "code",
   "execution_count": null,
   "metadata": {},
   "outputs": [],
   "source": []
  }
 ],
 "metadata": {
  "kernelspec": {
   "display_name": "Python 3",
   "language": "python",
   "name": "python3"
  },
  "language_info": {
   "codemirror_mode": {
    "name": "ipython",
    "version": 3
   },
   "file_extension": ".py",
   "mimetype": "text/x-python",
   "name": "python",
   "nbconvert_exporter": "python",
   "pygments_lexer": "ipython3",
   "version": "3.7.4"
  }
 },
 "nbformat": 4,
 "nbformat_minor": 2
}
