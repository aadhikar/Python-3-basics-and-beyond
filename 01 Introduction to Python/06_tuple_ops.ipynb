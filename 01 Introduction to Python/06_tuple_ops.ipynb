{
 "cells": [
  {
   "cell_type": "code",
   "execution_count": 19,
   "metadata": {},
   "outputs": [
    {
     "name": "stdout",
     "output_type": "stream",
     "text": [
      "(12345, 54321, 'hello!')\n",
      "54321\n",
      "(12345, 54321, 'hello!')\n",
      "54321\n",
      "3\n"
     ]
    }
   ],
   "source": [
    "'''\n",
    "Tuples are similar to lists, but the items in a tuple can't be modified (immutable), and usually contain a heterogeneous \n",
    "sequence of elements that are accessed via unpacking or indexing. A tuple consists of a number of values separated by commas.\n",
    "'''\n",
    "\n",
    "# Tuples\n",
    "tup = 12345, 54321, 'hello!'\n",
    "print(tup)\n",
    "print(tup[1])\n",
    "\n",
    " # OR\n",
    "    \n",
    "tup1 = (12345, 54321, 'hello!')\n",
    "print(tup1)\n",
    "print(tup1[1])\n",
    "print(len(tup1))"
   ]
  },
  {
   "cell_type": "code",
   "execution_count": 22,
   "metadata": {},
   "outputs": [
    {
     "name": "stdout",
     "output_type": "stream",
     "text": [
      "500\n",
      "100\n"
     ]
    }
   ],
   "source": [
    "# max and min NOT supported between instances of 'int' and 'str'\n",
    "tup1 = (250, 500, 100)\n",
    "print(max(tup1))\n",
    "print(min(tup1))"
   ]
  },
  {
   "cell_type": "code",
   "execution_count": 23,
   "metadata": {},
   "outputs": [
    {
     "name": "stdout",
     "output_type": "stream",
     "text": [
      "(250, 500, 100, 250, 500, 100)\n"
     ]
    }
   ],
   "source": [
    "# Repetition\n",
    "print(tup1*2)"
   ]
  },
  {
   "cell_type": "code",
   "execution_count": 4,
   "metadata": {},
   "outputs": [
    {
     "name": "stdout",
     "output_type": "stream",
     "text": [
      "((12345, 54321, 'hello!'), (1, 2, 3, 4, 5))\n",
      "(12345, 54321, 'hello!')\n",
      "(1, 2, 3, 4, 5)\n"
     ]
    }
   ],
   "source": [
    "# Tuples may be nested:\n",
    "tup_nested = (tup, (1, 2, 3, 4, 5))\n",
    "print(tup_nested)\n",
    "print(tup_nested[0])\n",
    "print(tup_nested[1])"
   ]
  },
  {
   "cell_type": "code",
   "execution_count": 7,
   "metadata": {},
   "outputs": [
    {
     "name": "stdout",
     "output_type": "stream",
     "text": [
      "(68798797, 55554654, 'I am here!')\n",
      "Uncommenting below assignment statement will throw an error --> TypeError: 'tuple' object does not support item assignment\n"
     ]
    }
   ],
   "source": [
    "# Tuples are immutable:\n",
    "tup_immutable = 68798797, 55554654, 'I am here!'\n",
    "print(tup_immutable)\n",
    "print('Uncommenting below assignment statement will throw an error --> TypeError: \\'tuple\\' object does not support item assignment')\n",
    "# tup_immutable[0] = 88888"
   ]
  },
  {
   "cell_type": "code",
   "execution_count": 8,
   "metadata": {},
   "outputs": [
    {
     "name": "stdout",
     "output_type": "stream",
     "text": [
      "([1, 2, 3], [3, 2, 1])\n",
      "([1, 2, 3], ['Anil', 2, 1])\n"
     ]
    }
   ],
   "source": [
    "# Tuples can contain mutable objects:\n",
    "tup_nested_mutable = ([1, 2, 3], [3, 2, 1])\n",
    "print(tup_nested_mutable)\n",
    "tup_nested_mutable[1][0] = 'Anil'\n",
    "print(tup_nested_mutable)"
   ]
  },
  {
   "cell_type": "code",
   "execution_count": 9,
   "metadata": {},
   "outputs": [
    {
     "name": "stdout",
     "output_type": "stream",
     "text": [
      "Length of tup_empty is 0\n"
     ]
    }
   ],
   "source": [
    "# Create empty tuple\n",
    "tup_empty = ()\n",
    "print('Length of tup_empty is',len(tup_empty))"
   ]
  },
  {
   "cell_type": "code",
   "execution_count": 13,
   "metadata": {},
   "outputs": [
    {
     "name": "stdout",
     "output_type": "stream",
     "text": [
      "('hello',)\n",
      "<class 'tuple'>\n",
      "Length of tup_singleton is 1\n"
     ]
    }
   ],
   "source": [
    "# Create tuple with single value\n",
    "tup_singleton = ('hello',)    # <-- note trailing comma\n",
    "print(tup_singleton)\n",
    "print(type(tup_singleton))\n",
    "print('Length of tup_singleton is',len(tup_singleton))"
   ]
  },
  {
   "cell_type": "code",
   "execution_count": 14,
   "metadata": {},
   "outputs": [
    {
     "name": "stdout",
     "output_type": "stream",
     "text": [
      "(12345, 54321, 'hello!')\n"
     ]
    }
   ],
   "source": [
    "# tuple packing\n",
    "tup_packing = 12345, 54321, 'hello!'\n",
    "print(tup_packing)"
   ]
  },
  {
   "cell_type": "code",
   "execution_count": 15,
   "metadata": {},
   "outputs": [
    {
     "name": "stdout",
     "output_type": "stream",
     "text": [
      "12345\n",
      "54321\n",
      "hello!\n"
     ]
    }
   ],
   "source": [
    "# tuple unpacking\n",
    "'''\n",
    "\n",
    "Sequence unpacking and works for any sequence on the right-hand side. Sequence unpacking requires the list of variables on \n",
    "the left to have the same number of elements as the length of the sequence. Note that multiple assignment is really just a \n",
    "combination of tuple packing and sequence unpacking.\n",
    "\n",
    "'''\n",
    "a, b, c = tup_packing\n",
    "print(a)\n",
    "print(b)\n",
    "print(c)"
   ]
  },
  {
   "cell_type": "code",
   "execution_count": 26,
   "metadata": {},
   "outputs": [
    {
     "data": {
      "text/plain": [
       "\"\\n\\nCan't add elements to a tuple because of their immutable property.\\n    There's no append() or extend() method for tuples,\\n\\nCan't remove elements from a tuple, also because of their immutability. \\n    Tuples have no remove() or pop() method,\\n\\n\""
      ]
     },
     "execution_count": 26,
     "metadata": {},
     "output_type": "execute_result"
    }
   ],
   "source": [
    "'''\n",
    "\n",
    "Can't add elements to a tuple because of their immutable property.\n",
    "    There's no append() or extend() method for tuples,\n",
    "\n",
    "Can't remove elements from a tuple, also because of their immutability. \n",
    "    Tuples have no remove() or pop() method,\n",
    "\n",
    "'''"
   ]
  },
  {
   "cell_type": "code",
   "execution_count": 47,
   "metadata": {},
   "outputs": [
    {
     "name": "stdout",
     "output_type": "stream",
     "text": [
      "('I', 'am', 'not', 'Here', 'Actually', 'I', 'am', 'Here')\n"
     ]
    }
   ],
   "source": [
    "# Concanating 2 tuple\n",
    "concanate_list_1 = 'I', 'am', 'not', 'Here'\n",
    "concanate_list_2 = 'Actually', 'I', 'am', 'Here'\n",
    "print(concanate_list_1 + concanate_list_2)"
   ]
  },
  {
   "cell_type": "code",
   "execution_count": 48,
   "metadata": {},
   "outputs": [
    {
     "data": {
      "text/plain": [
       "True"
      ]
     },
     "execution_count": 48,
     "metadata": {},
     "output_type": "execute_result"
    }
   ],
   "source": [
    "# Tuple 'n_tuple' with a list as one of its item.\n",
    "n_tuple = (1, 1, [3,4])\n",
    "\n",
    "#Items with same value have the same id.\n",
    "id(n_tuple[0]) == id(n_tuple[1])"
   ]
  },
  {
   "cell_type": "code",
   "execution_count": 49,
   "metadata": {},
   "outputs": [
    {
     "name": "stdout",
     "output_type": "stream",
     "text": [
      "['Here', 'I', 'am', 'not']\n"
     ]
    }
   ],
   "source": [
    "# Sorting tuple\n",
    "concanate_tuple = 'I', 'am', 'not', 'Here'\n",
    "print(sorted(concanate_tuple))"
   ]
  },
  {
   "cell_type": "code",
   "execution_count": 50,
   "metadata": {},
   "outputs": [
    {
     "name": "stdout",
     "output_type": "stream",
     "text": [
      "('Here', 'not', 'am', 'I')\n"
     ]
    }
   ],
   "source": [
    "# Reversing lists\n",
    "print(concanate_tuple[::-1])"
   ]
  },
  {
   "cell_type": "code",
   "execution_count": 52,
   "metadata": {},
   "outputs": [],
   "source": [
    "# Delete tuple\n",
    "concanate_tuple_del = 'I', 'am', 'not', 'Here'\n",
    "del(concanate_tuple_del)\n",
    "# Since concanate_tuple_del is deleted below print statement will throw an error\n",
    "# print(concanate_tuple_del)"
   ]
  }
 ],
 "metadata": {
  "kernelspec": {
   "display_name": "Python 3",
   "language": "python",
   "name": "python3"
  },
  "language_info": {
   "codemirror_mode": {
    "name": "ipython",
    "version": 3
   },
   "file_extension": ".py",
   "mimetype": "text/x-python",
   "name": "python",
   "nbconvert_exporter": "python",
   "pygments_lexer": "ipython3",
   "version": "3.7.4"
  }
 },
 "nbformat": 4,
 "nbformat_minor": 2
}
