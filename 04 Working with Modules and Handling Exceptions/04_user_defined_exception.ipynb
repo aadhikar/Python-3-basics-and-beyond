{
 "cells": [
  {
   "cell_type": "markdown",
   "metadata": {},
   "source": [
    "## User defined exceptions"
   ]
  },
  {
   "cell_type": "code",
   "execution_count": 8,
   "metadata": {},
   "outputs": [],
   "source": [
    "class CoffeeTooHotException(Exception):\n",
    "    '''User defined exception to raise when coffee is too hot'''\n",
    "    def __init__(self, msg):\n",
    "        super().__init__(msg)\n",
    "        \n",
    "class CoffeeTooColdException(Exception):\n",
    "    '''User defined exception to raise when coffee is too cold'''\n",
    "    def __init__(self, msg):\n",
    "        super().__init__(msg)\n",
    "        \n",
    "class CoffeeCup:\n",
    "    '''Coffee cup class'''\n",
    "    def __init__(self, temperature):\n",
    "        self.__temperature = temperature\n",
    "        \n",
    "    def drinkCoffee(self):\n",
    "        if self.__temperature < 65:\n",
    "            raise CoffeeTooColdException(f'Coffee temperature is {self.__temperature}')\n",
    "        elif self.__temperature > 85:\n",
    "            raise CoffeeTooColdException(f'Coffee temperature is {self.__temperature}')\n",
    "        else:\n",
    "            print(f'Coffee temperature is perfect!!!')"
   ]
  },
  {
   "cell_type": "code",
   "execution_count": 15,
   "metadata": {},
   "outputs": [
    {
     "name": "stdout",
     "output_type": "stream",
     "text": [
      "Coffee temperature is perfect!!!\n"
     ]
    }
   ],
   "source": [
    "c = CoffeeCup(75)\n",
    "c.drinkCoffee()"
   ]
  },
  {
   "cell_type": "code",
   "execution_count": 16,
   "metadata": {},
   "outputs": [
    {
     "ename": "CoffeeTooColdException",
     "evalue": "Coffee temperature is 100",
     "output_type": "error",
     "traceback": [
      "\u001b[1;31m---------------------------------------------------------------------------\u001b[0m",
      "\u001b[1;31mCoffeeTooColdException\u001b[0m                    Traceback (most recent call last)",
      "\u001b[1;32m<ipython-input-16-2bf459258ede>\u001b[0m in \u001b[0;36m<module>\u001b[1;34m\u001b[0m\n\u001b[0;32m      1\u001b[0m \u001b[0mc\u001b[0m \u001b[1;33m=\u001b[0m \u001b[0mCoffeeCup\u001b[0m\u001b[1;33m(\u001b[0m\u001b[1;36m100\u001b[0m\u001b[1;33m)\u001b[0m\u001b[1;33m\u001b[0m\u001b[1;33m\u001b[0m\u001b[0m\n\u001b[1;32m----> 2\u001b[1;33m \u001b[0mc\u001b[0m\u001b[1;33m.\u001b[0m\u001b[0mdrinkCoffee\u001b[0m\u001b[1;33m(\u001b[0m\u001b[1;33m)\u001b[0m\u001b[1;33m\u001b[0m\u001b[1;33m\u001b[0m\u001b[0m\n\u001b[0m",
      "\u001b[1;32m<ipython-input-8-87d4f9335e29>\u001b[0m in \u001b[0;36mdrinkCoffee\u001b[1;34m(self)\u001b[0m\n\u001b[0;32m     18\u001b[0m             \u001b[1;32mraise\u001b[0m \u001b[0mCoffeeTooColdException\u001b[0m\u001b[1;33m(\u001b[0m\u001b[1;34mf'Coffee temperature is {self.__temperature}'\u001b[0m\u001b[1;33m)\u001b[0m\u001b[1;33m\u001b[0m\u001b[1;33m\u001b[0m\u001b[0m\n\u001b[0;32m     19\u001b[0m         \u001b[1;32melif\u001b[0m \u001b[0mself\u001b[0m\u001b[1;33m.\u001b[0m\u001b[0m__temperature\u001b[0m \u001b[1;33m>\u001b[0m \u001b[1;36m85\u001b[0m\u001b[1;33m:\u001b[0m\u001b[1;33m\u001b[0m\u001b[1;33m\u001b[0m\u001b[0m\n\u001b[1;32m---> 20\u001b[1;33m             \u001b[1;32mraise\u001b[0m \u001b[0mCoffeeTooColdException\u001b[0m\u001b[1;33m(\u001b[0m\u001b[1;34mf'Coffee temperature is {self.__temperature}'\u001b[0m\u001b[1;33m)\u001b[0m\u001b[1;33m\u001b[0m\u001b[1;33m\u001b[0m\u001b[0m\n\u001b[0m\u001b[0;32m     21\u001b[0m         \u001b[1;32melse\u001b[0m\u001b[1;33m:\u001b[0m\u001b[1;33m\u001b[0m\u001b[1;33m\u001b[0m\u001b[0m\n\u001b[0;32m     22\u001b[0m             \u001b[0mprint\u001b[0m\u001b[1;33m(\u001b[0m\u001b[1;34mf'Coffee temperature is perfect!!!'\u001b[0m\u001b[1;33m)\u001b[0m\u001b[1;33m\u001b[0m\u001b[1;33m\u001b[0m\u001b[0m\n",
      "\u001b[1;31mCoffeeTooColdException\u001b[0m: Coffee temperature is 100"
     ]
    }
   ],
   "source": [
    "c = CoffeeCup(100)\n",
    "c.drinkCoffee()"
   ]
  },
  {
   "cell_type": "code",
   "execution_count": 17,
   "metadata": {},
   "outputs": [
    {
     "ename": "CoffeeTooColdException",
     "evalue": "Coffee temperature is 10",
     "output_type": "error",
     "traceback": [
      "\u001b[1;31m---------------------------------------------------------------------------\u001b[0m",
      "\u001b[1;31mCoffeeTooColdException\u001b[0m                    Traceback (most recent call last)",
      "\u001b[1;32m<ipython-input-17-b8fa27b180af>\u001b[0m in \u001b[0;36m<module>\u001b[1;34m\u001b[0m\n\u001b[0;32m      1\u001b[0m \u001b[0mc\u001b[0m \u001b[1;33m=\u001b[0m \u001b[0mCoffeeCup\u001b[0m\u001b[1;33m(\u001b[0m\u001b[1;36m10\u001b[0m\u001b[1;33m)\u001b[0m\u001b[1;33m\u001b[0m\u001b[1;33m\u001b[0m\u001b[0m\n\u001b[1;32m----> 2\u001b[1;33m \u001b[0mc\u001b[0m\u001b[1;33m.\u001b[0m\u001b[0mdrinkCoffee\u001b[0m\u001b[1;33m(\u001b[0m\u001b[1;33m)\u001b[0m\u001b[1;33m\u001b[0m\u001b[1;33m\u001b[0m\u001b[0m\n\u001b[0m",
      "\u001b[1;32m<ipython-input-8-87d4f9335e29>\u001b[0m in \u001b[0;36mdrinkCoffee\u001b[1;34m(self)\u001b[0m\n\u001b[0;32m     16\u001b[0m     \u001b[1;32mdef\u001b[0m \u001b[0mdrinkCoffee\u001b[0m\u001b[1;33m(\u001b[0m\u001b[0mself\u001b[0m\u001b[1;33m)\u001b[0m\u001b[1;33m:\u001b[0m\u001b[1;33m\u001b[0m\u001b[1;33m\u001b[0m\u001b[0m\n\u001b[0;32m     17\u001b[0m         \u001b[1;32mif\u001b[0m \u001b[0mself\u001b[0m\u001b[1;33m.\u001b[0m\u001b[0m__temperature\u001b[0m \u001b[1;33m<\u001b[0m \u001b[1;36m65\u001b[0m\u001b[1;33m:\u001b[0m\u001b[1;33m\u001b[0m\u001b[1;33m\u001b[0m\u001b[0m\n\u001b[1;32m---> 18\u001b[1;33m             \u001b[1;32mraise\u001b[0m \u001b[0mCoffeeTooColdException\u001b[0m\u001b[1;33m(\u001b[0m\u001b[1;34mf'Coffee temperature is {self.__temperature}'\u001b[0m\u001b[1;33m)\u001b[0m\u001b[1;33m\u001b[0m\u001b[1;33m\u001b[0m\u001b[0m\n\u001b[0m\u001b[0;32m     19\u001b[0m         \u001b[1;32melif\u001b[0m \u001b[0mself\u001b[0m\u001b[1;33m.\u001b[0m\u001b[0m__temperature\u001b[0m \u001b[1;33m>\u001b[0m \u001b[1;36m85\u001b[0m\u001b[1;33m:\u001b[0m\u001b[1;33m\u001b[0m\u001b[1;33m\u001b[0m\u001b[0m\n\u001b[0;32m     20\u001b[0m             \u001b[1;32mraise\u001b[0m \u001b[0mCoffeeTooColdException\u001b[0m\u001b[1;33m(\u001b[0m\u001b[1;34mf'Coffee temperature is {self.__temperature}'\u001b[0m\u001b[1;33m)\u001b[0m\u001b[1;33m\u001b[0m\u001b[1;33m\u001b[0m\u001b[0m\n",
      "\u001b[1;31mCoffeeTooColdException\u001b[0m: Coffee temperature is 10"
     ]
    }
   ],
   "source": [
    "c = CoffeeCup(10)\n",
    "c.drinkCoffee()"
   ]
  },
  {
   "cell_type": "markdown",
   "metadata": {},
   "source": [
    "## Catching user defined exceptions"
   ]
  },
  {
   "cell_type": "code",
   "execution_count": 22,
   "metadata": {},
   "outputs": [
    {
     "name": "stdout",
     "output_type": "stream",
     "text": [
      "Error: Coffee temperature is 10 \n",
      "Type of error: <class '__main__.CoffeeTooColdException'> \n",
      "Details: User defined exception to raise when coffee is too cold\n"
     ]
    }
   ],
   "source": [
    "try:\n",
    "    c = CoffeeCup(10)\n",
    "    c.drinkCoffee()\n",
    "except CoffeeTooHotException as e:\n",
    "    print(f'Error: {str(e).capitalize()} \\nType of error: {type(e)} \\nDetails: {e.__doc__}')\n",
    "except CoffeeTooColdException as e:\n",
    "    print(f'Error: {str(e).capitalize()} \\nType of error: {type(e)} \\nDetails: {e.__doc__}')\n",
    "else:\n",
    "    print(f'Have greate Coffee!!')\n",
    "finally:\n",
    "    print(f'Please visit again')"
   ]
  },
  {
   "cell_type": "code",
   "execution_count": 29,
   "metadata": {},
   "outputs": [
    {
     "name": "stdout",
     "output_type": "stream",
     "text": [
      "Error: Coffee temperature is 10 \n",
      "Type of error: <class '__main__.CoffeeTooColdException'> \n",
      "Details: User defined exception to raise when coffee is too cold\n",
      "Please visit again\n"
     ]
    }
   ],
   "source": [
    "try:\n",
    "    c = CoffeeCup(10)\n",
    "    c.drinkCoffee()\n",
    "except CoffeeTooHotException as e:\n",
    "    print(f'Error: {str(e).capitalize()} \\nType of error: {type(e)} \\nDetails: {e.__doc__}')\n",
    "except CoffeeTooColdException as e:\n",
    "    print(f'Error: {str(e).capitalize()} \\nType of error: {type(e)} \\nDetails: {e.__doc__}')\n",
    "else:\n",
    "    print(f'Have greate Coffee!!')\n",
    "finally:\n",
    "    print(f'Please visit again')"
   ]
  },
  {
   "cell_type": "code",
   "execution_count": null,
   "metadata": {},
   "outputs": [],
   "source": []
  }
 ],
 "metadata": {
  "kernelspec": {
   "display_name": "Python 3",
   "language": "python",
   "name": "python3"
  },
  "language_info": {
   "codemirror_mode": {
    "name": "ipython",
    "version": 3
   },
   "file_extension": ".py",
   "mimetype": "text/x-python",
   "name": "python",
   "nbconvert_exporter": "python",
   "pygments_lexer": "ipython3",
   "version": "3.7.4"
  }
 },
 "nbformat": 4,
 "nbformat_minor": 2
}
