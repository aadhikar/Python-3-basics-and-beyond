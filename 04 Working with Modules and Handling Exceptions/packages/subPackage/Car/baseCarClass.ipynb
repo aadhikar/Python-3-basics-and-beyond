{
 "cells": [
  {
   "cell_type": "code",
   "execution_count": 1,
   "metadata": {},
   "outputs": [],
   "source": [
    "\"\"\"Represent gas and electric cars.\"\"\"\n",
    "class Car():\n",
    "    \"\"\"A simple attempt to model a car.\"\"\"\n",
    "    \n",
    "    def __init__(self, make, model, year):\n",
    "        \"\"\"Initialize car attributes.\"\"\"\n",
    "        self.make = make\n",
    "        self.model = model\n",
    "        self.year = year\n",
    "        # Fuel capacity and level in gallons.\n",
    "        self.fuel_capacity = 15\n",
    "        self.fuel_level = 0\n",
    "        \n",
    "    def fill_tank(self):\n",
    "        \"\"\"Fill gas tank to capacity.\"\"\"\n",
    "        self.fuel_level = self.fuel_capacity\n",
    "        print(\"Fuel tank is full.\")\n",
    "        \n",
    "    def drive(self):\n",
    "        \"\"\"Simulate driving.\"\"\"\n",
    "        print(\"The car is moving.\")\n",
    "        \n",
    "    def update_fuel_level(self, new_level):\n",
    "        \"\"\"Update the fuel level.\"\"\"\n",
    "        if new_level <= self.fuel_capacity:\n",
    "            self.fuel_level = new_level\n",
    "        else:\n",
    "            print(\"The tank can't hold that much!\")\n",
    "            \n",
    "    def add_fuel(self, amount):\n",
    "        \"\"\"Add fuel to the tank.\"\"\"\n",
    "        if (self.fuel_level + amount <= self.fuel_capacity):\n",
    "            self.fuel_level += amount\n",
    "            print(\"Added fuel.\")\n",
    "        else:\n",
    "            print(\"The tank won't hold that much.\")"
   ]
  },
  {
   "cell_type": "code",
   "execution_count": null,
   "metadata": {},
   "outputs": [],
   "source": []
  }
 ],
 "metadata": {
  "kernelspec": {
   "display_name": "Python 3",
   "language": "python",
   "name": "python3"
  },
  "language_info": {
   "codemirror_mode": {
    "name": "ipython",
    "version": 3
   },
   "file_extension": ".py",
   "mimetype": "text/x-python",
   "name": "python",
   "nbconvert_exporter": "python",
   "pygments_lexer": "ipython3",
   "version": "3.7.4"
  }
 },
 "nbformat": 4,
 "nbformat_minor": 2
}
