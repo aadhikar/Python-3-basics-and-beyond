{
 "cells": [
  {
   "cell_type": "markdown",
   "metadata": {},
   "source": [
    "**Package** is collection of modules or subpackages. Packages allow you to break down system and organize modules in consistent way that you and others can use and reuse efficiently."
   ]
  },
  {
   "cell_type": "code",
   "execution_count": 3,
   "metadata": {},
   "outputs": [
    {
     "name": "stdout",
     "output_type": "stream",
     "text": [
      "Fuel tank is full.\n",
      "The car is moving.\n",
      "The vehicle is fully charged.\n"
     ]
    }
   ],
   "source": [
    "# Importing user created package\n",
    "from packages.subPackage.Car.electricCar import ElectricCar\n",
    "\n",
    "my_tesla = ElectricCar( 'tesla', 'model s', 2016)\n",
    "my_tesla.fill_tank()\n",
    "my_tesla.drive()\n",
    "my_tesla.charge()"
   ]
  },
  {
   "cell_type": "code",
   "execution_count": 4,
   "metadata": {},
   "outputs": [
    {
     "name": "stdout",
     "output_type": "stream",
     "text": [
      "Exterior color of the Vehicle is Navy blue\n",
      "Type of wheels of the Vehicle is Alloy wheels\n"
     ]
    }
   ],
   "source": [
    "# Importing module form user created package\n",
    "from packages import exteriorModule\n",
    "\n",
    "exteriorModule.exteriorColor()\n",
    "exteriorModule.wheelType()"
   ]
  },
  {
   "cell_type": "code",
   "execution_count": null,
   "metadata": {},
   "outputs": [],
   "source": []
  }
 ],
 "metadata": {
  "kernelspec": {
   "display_name": "Python 3",
   "language": "python",
   "name": "python3"
  },
  "language_info": {
   "codemirror_mode": {
    "name": "ipython",
    "version": 3
   },
   "file_extension": ".py",
   "mimetype": "text/x-python",
   "name": "python",
   "nbconvert_exporter": "python",
   "pygments_lexer": "ipython3",
   "version": "3.7.4"
  }
 },
 "nbformat": 4,
 "nbformat_minor": 2
}
