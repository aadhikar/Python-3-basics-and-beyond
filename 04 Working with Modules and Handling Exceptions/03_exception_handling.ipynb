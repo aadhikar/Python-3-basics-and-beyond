{
 "cells": [
  {
   "cell_type": "markdown",
   "metadata": {},
   "source": [
    "An **exception** is an event, which happens while the execution of a program, that disrupts the normal flow of the program and execution of a program **stops** when exception occurs.\n",
    "\n",
    "**Exception handling** can be done by using **Try Except**."
   ]
  },
  {
   "cell_type": "code",
   "execution_count": 56,
   "metadata": {},
   "outputs": [
    {
     "ename": "ZeroDivisionError",
     "evalue": "division by zero",
     "output_type": "error",
     "traceback": [
      "\u001b[1;31m---------------------------------------------------------------------------\u001b[0m",
      "\u001b[1;31mZeroDivisionError\u001b[0m                         Traceback (most recent call last)",
      "\u001b[1;32m<ipython-input-56-5561179dab46>\u001b[0m in \u001b[0;36m<module>\u001b[1;34m\u001b[0m\n\u001b[0;32m      2\u001b[0m \u001b[0ma\u001b[0m\u001b[1;33m,\u001b[0m \u001b[0mb\u001b[0m \u001b[1;33m=\u001b[0m \u001b[1;36m10\u001b[0m\u001b[1;33m,\u001b[0m \u001b[1;36m0\u001b[0m\u001b[1;33m\u001b[0m\u001b[1;33m\u001b[0m\u001b[0m\n\u001b[0;32m      3\u001b[0m \u001b[1;31m# Below statement intruduce 'ZeroDivisionError' exception\u001b[0m\u001b[1;33m\u001b[0m\u001b[1;33m\u001b[0m\u001b[1;33m\u001b[0m\u001b[0m\n\u001b[1;32m----> 4\u001b[1;33m \u001b[0mres\u001b[0m \u001b[1;33m=\u001b[0m \u001b[0ma\u001b[0m \u001b[1;33m/\u001b[0m \u001b[0mb\u001b[0m\u001b[1;33m\u001b[0m\u001b[1;33m\u001b[0m\u001b[0m\n\u001b[0m\u001b[0;32m      5\u001b[0m \u001b[1;31m# Below statements won't execute due to exception\u001b[0m\u001b[1;33m\u001b[0m\u001b[1;33m\u001b[0m\u001b[1;33m\u001b[0m\u001b[0m\n\u001b[0;32m      6\u001b[0m \u001b[0mprint\u001b[0m\u001b[1;33m(\u001b[0m\u001b[0mres\u001b[0m\u001b[1;33m)\u001b[0m\u001b[1;33m\u001b[0m\u001b[1;33m\u001b[0m\u001b[0m\n",
      "\u001b[1;31mZeroDivisionError\u001b[0m: division by zero"
     ]
    }
   ],
   "source": [
    "res = None\n",
    "a, b = 10, 0\n",
    "# Below statement intruduce 'ZeroDivisionError' exception\n",
    "res = a / b\n",
    "# Below statements won't execute due to exception\n",
    "print(res)\n",
    "print('Ends here')"
   ]
  },
  {
   "cell_type": "markdown",
   "metadata": {},
   "source": [
    "## Handling exception using Common base class"
   ]
  },
  {
   "cell_type": "code",
   "execution_count": 62,
   "metadata": {},
   "outputs": [
    {
     "name": "stdout",
     "output_type": "stream",
     "text": [
      "division by zero <class 'ZeroDivisionError'>\n",
      "No matter what, the __finally__ block will executed\n",
      "Ends here\n"
     ]
    }
   ],
   "source": [
    "res = None\n",
    "a, b = 10, 0\n",
    "\n",
    "# Handling exception\n",
    "try:\n",
    "    # Below statement intruduce 'ZeroDivisionError' exception\n",
    "    res = a / b\n",
    "    print(res)\n",
    "except Exception as e: # Exception is the common base class\n",
    "    print(f'{str(e)} {type(e)}')\n",
    "else: # else block should followed by except block\n",
    "    print(f'When ther is no exception thrown this __else__ block will executed')\n",
    "finally: # finally can be followed by try as well\n",
    "    print(f'No matter what, the __finally__ block will executed')\n",
    "# Below statement will execute due to exception handling\n",
    "print('Ends here')"
   ]
  },
  {
   "cell_type": "markdown",
   "metadata": {},
   "source": [
    "## Catching exception using specific type"
   ]
  },
  {
   "cell_type": "code",
   "execution_count": 58,
   "metadata": {},
   "outputs": [
    {
     "name": "stdout",
     "output_type": "stream",
     "text": [
      "division by zero <class 'ZeroDivisionError'>\n",
      "No matter what, the __finally__ block will executed\n",
      "Ends here\n"
     ]
    }
   ],
   "source": [
    "res = None\n",
    "a, b = 10, 0\n",
    "\n",
    "# Handling exception\n",
    "try:\n",
    "    # Below statement intruduce 'TypeError' exception\n",
    "    res = a / b\n",
    "    print(res)\n",
    "except ZeroDivisionError as e: # Exception is the common base class\n",
    "    print(f'{str(e)} {type(e)}')\n",
    "else:\n",
    "    print(f'When ther is no exception thrown this __else__ block will executed')\n",
    "finally:\n",
    "    print(f'No matter what, the __finally__ block will executed')\n",
    "\n",
    "# Below statement will execute due to exception handling\n",
    "print('Ends here')"
   ]
  },
  {
   "cell_type": "markdown",
   "metadata": {},
   "source": [
    "## Catching multiple exceptions(Approach 1)"
   ]
  },
  {
   "cell_type": "code",
   "execution_count": 65,
   "metadata": {},
   "outputs": [
    {
     "name": "stdout",
     "output_type": "stream",
     "text": [
      "Error: Division by zero \n",
      "Type of error: <class 'ZeroDivisionError'> \n",
      "Details: Second argument to a division or modulo operation was zero.\n",
      "No matter what, the __finally__ block will executed\n",
      "Ends here\n"
     ]
    }
   ],
   "source": [
    "res = None\n",
    "a, b = 10, 0\n",
    "\n",
    "# Handling exception\n",
    "try:\n",
    "    res = a / b\n",
    "    print(res)\n",
    "# Handling multiple exceptions\n",
    "except ZeroDivisionError as e:\n",
    "    print(f'Error: {str(e).capitalize()} \\nType of error: {type(e)} \\nDetails: {e.__doc__}')\n",
    "    \n",
    "except TypeError as e:\n",
    "    print(f'Error: {str(e).capitalize()} \\nType of error: {type(e)} \\nDetails: {e.__doc__}')\n",
    "    \n",
    "else:\n",
    "    print(f'When ther is no exception thrown this __else__ block will executed')\n",
    "finally:\n",
    "    print(f'No matter what, the __finally__ block will executed')\n",
    "\n",
    "print('Ends here')"
   ]
  },
  {
   "cell_type": "markdown",
   "metadata": {},
   "source": [
    "## Catching multiple exceptions(Approach 2)"
   ]
  },
  {
   "cell_type": "code",
   "execution_count": 60,
   "metadata": {},
   "outputs": [
    {
     "name": "stdout",
     "output_type": "stream",
     "text": [
      "Error: Unsupported operand type(s) for /: 'str' and 'int' \n",
      "Type of error: <class 'TypeError'> \n",
      "Details: Inappropriate argument type.\n",
      "No matter what, the __finally__ block will executed\n",
      "Ends here\n"
     ]
    }
   ],
   "source": [
    "res = None\n",
    "a, b = '10', 0\n",
    "\n",
    "# Handling exception\n",
    "try:\n",
    "    res = a / b\n",
    "    print(res)\n",
    "# Handling multiple exceptions\n",
    "except Exception as e:\n",
    "    if isinstance(e, ZeroDivisionError):\n",
    "        print(f'Error: {str(e).capitalize()} \\nType of error: {type(e)} \\nDetails: {e.__doc__}')\n",
    "    elif isinstance(e, TypeError):\n",
    "        print(f'Error: {str(e).capitalize()} \\nType of error: {type(e)} \\nDetails: {e.__doc__}')\n",
    "    else:\n",
    "        print(f'Unidentified Error')\n",
    "        \n",
    "else:\n",
    "    print(f'When ther is no exception thrown this __else__ block will executed')\n",
    "finally:\n",
    "    print(f'No matter what, the __finally__ block will executed')\n",
    "\n",
    "print('Ends here')"
   ]
  },
  {
   "cell_type": "markdown",
   "metadata": {},
   "source": [
    "## Catching multiple exceptions(Approach 3)"
   ]
  },
  {
   "cell_type": "code",
   "execution_count": 61,
   "metadata": {},
   "outputs": [
    {
     "name": "stdout",
     "output_type": "stream",
     "text": [
      "Error: Unsupported operand type(s) for /: 'str' and 'int' \n",
      "Type of error: <class 'TypeError'> \n",
      "Details: Inappropriate argument type.\n",
      "No matter what, the __finally__ block will executed\n",
      "Ends here\n"
     ]
    }
   ],
   "source": [
    "def handlingMulExceptions(e):\n",
    "    if isinstance(e, ZeroDivisionError):\n",
    "        return f'Error: {str(e).capitalize()} \\nType of error: {type(e)} \\nDetails: {e.__doc__}'\n",
    "    elif isinstance(e, TypeError):\n",
    "        return f'Error: {str(e).capitalize()} \\nType of error: {type(e)} \\nDetails: {e.__doc__}'\n",
    "    else:\n",
    "        return f'Unidentified Error'\n",
    "\n",
    "        \n",
    "res = None\n",
    "a, b = '10', 0\n",
    "\n",
    "# Handling exception\n",
    "try:\n",
    "    res = a / b\n",
    "    print(res)\n",
    "# Handling multiple exceptions\n",
    "except Exception as e:\n",
    "    print(handlingMulExceptions(e))\n",
    "    \n",
    "else:\n",
    "    print(f'When ther is no exception thrown this __else__ block will executed')\n",
    "finally:\n",
    "    print(f'No matter what, the __finally__ block will executed')\n",
    "\n",
    "print('Ends here')"
   ]
  },
  {
   "cell_type": "code",
   "execution_count": null,
   "metadata": {},
   "outputs": [],
   "source": []
  }
 ],
 "metadata": {
  "kernelspec": {
   "display_name": "Python 3",
   "language": "python",
   "name": "python3"
  },
  "language_info": {
   "codemirror_mode": {
    "name": "ipython",
    "version": 3
   },
   "file_extension": ".py",
   "mimetype": "text/x-python",
   "name": "python",
   "nbconvert_exporter": "python",
   "pygments_lexer": "ipython3",
   "version": "3.7.4"
  }
 },
 "nbformat": 4,
 "nbformat_minor": 2
}
