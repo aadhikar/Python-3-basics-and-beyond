{
 "cells": [
  {
   "cell_type": "code",
   "execution_count": 23,
   "metadata": {},
   "outputs": [],
   "source": [
    "Description = '''\n",
    "Method signature:\n",
    "open(\n",
    "    file,\n",
    "    mode='r',\n",
    "    buffering=-1,\n",
    "    encoding=None,\n",
    "    errors=None,\n",
    "    newline=None,\n",
    "    closefd=True,\n",
    "    opener=None,\n",
    ")\n",
    "\n",
    "========= ===============================================================\n",
    "Character Meaning\n",
    "--------- ---------------------------------------------------------------\n",
    "'r'       open for reading (default)\n",
    "'w'       open for writing, truncating the file first\n",
    "'x'       create a new file and open it for writing\n",
    "'a'       open for writing, appending to the end of the file if it exists\n",
    "'b'       binary mode\n",
    "'t'       text mode (default)\n",
    "'+'       open a disk file for updating (reading and writing)\n",
    "========= ===============================================================\n",
    "\n",
    "Examples: \n",
    "    'rt' --> open for reading text\n",
    "    'w+b' --> opens and truncates the file to 0 bytes\n",
    "    'r+b' --> opens the file without truncation \n",
    "    'x' --> implies 'w' and raises an `FileExistsError` if the file already exists\n",
    "    'xb' --> open for exclusive creation writing mode in binary. The same as x except the data is in binary.\n",
    "    'x+' --> reading and writing mode. It will create a new file if the file does not exist. Otherwise, \n",
    "            will raise FileExistsError.\n",
    "    'x+b' - writing and reading mode. The exact same as x+ but the data is binary\n",
    "'''"
   ]
  },
  {
   "cell_type": "code",
   "execution_count": 14,
   "metadata": {},
   "outputs": [
    {
     "name": "stdout",
     "output_type": "stream",
     "text": [
      "openAndReadFile\n",
      "\n",
      "\n",
      "\n",
      "Docstring:\n",
      "\n",
      "Open file and return a stream.  Raise OSError upon failure.\n"
     ]
    }
   ],
   "source": [
    "# Opening file in read mode(1st approach)\n",
    "# The \"with\" statement also closes the file in case of an exception during writing.\n",
    "with open('./sampleFiles/openAndReadFile.txt', 'r') as f:\n",
    "    # Reading each line\n",
    "    for line in f:\n",
    "        print(line)\n",
    "f.close()"
   ]
  },
  {
   "cell_type": "code",
   "execution_count": 11,
   "metadata": {},
   "outputs": [
    {
     "name": "stdout",
     "output_type": "stream",
     "text": [
      "openAndReadFile\n",
      "\n",
      "Docstring:\n",
      "Open file and return a stream.  Raise OSError upon failure.\n"
     ]
    }
   ],
   "source": [
    "with open('./sampleFiles/openAndReadFile.txt', 'r') as f:\n",
    "    # Reading all content\n",
    "    complete_content = f.read()\n",
    "    print(complete_content)\n",
    "f.close()"
   ]
  },
  {
   "cell_type": "code",
   "execution_count": 19,
   "metadata": {},
   "outputs": [
    {
     "name": "stdout",
     "output_type": "stream",
     "text": [
      "0 openAndReadFile\n",
      "\n",
      "1 \n",
      "\n",
      "2 Docstring:\n",
      "\n",
      "3 Open file and return a stream.  Raise OSError upon failure.\n"
     ]
    }
   ],
   "source": [
    "# Opening file in read mode (2nd approach)\n",
    "with open('./sampleFiles/openAndReadFile.txt', 'r') as fr:\n",
    "    # Reading single line\n",
    "    # cur_line = fr.readline()\n",
    "    \n",
    "    # Reading all lines\n",
    "    all_lines = fr.readlines()\n",
    "    for line_num in range(len(all_lines)):\n",
    "        print(line_num, all_lines[line_num])\n",
    "fr.close()"
   ]
  },
  {
   "cell_type": "code",
   "execution_count": 54,
   "metadata": {},
   "outputs": [
    {
     "name": "stdout",
     "output_type": "stream",
     "text": [
      "2\n",
      "enAndReadFile\n",
      "\n",
      "Docst\n"
     ]
    }
   ],
   "source": [
    "# Reading specific number of characters from specific position(cursor point) in a file\n",
    "with open('./sampleFiles/openAndReadFile.txt', 'r') as fr:\n",
    "    # Go to specific location in a file\n",
    "    fr.seek(2)\n",
    "    # Tells where my cursor is\n",
    "    print(fr.tell())\n",
    "    # Reading number of characters\n",
    "    num_of_chars = fr.read(20)\n",
    "    print(num_of_chars)\n",
    "fr.close()"
   ]
  },
  {
   "cell_type": "code",
   "execution_count": 35,
   "metadata": {},
   "outputs": [],
   "source": [
    "# Renaming a file\n",
    "import os\n",
    "os.rename('./sampleFiles/renameFile.txt', './sampleFiles/renamedThisFile.txt')"
   ]
  },
  {
   "cell_type": "code",
   "execution_count": 48,
   "metadata": {},
   "outputs": [],
   "source": [
    "# Make new directory\n",
    "os.mkdir('./sampleFiles/dirToDel')"
   ]
  },
  {
   "cell_type": "code",
   "execution_count": 49,
   "metadata": {},
   "outputs": [],
   "source": [
    "# Delete directory\n",
    "os.rmdir('./sampleFiles/dirToDel')"
   ]
  },
  {
   "cell_type": "code",
   "execution_count": 37,
   "metadata": {},
   "outputs": [
    {
     "name": "stdout",
     "output_type": "stream",
     "text": [
      "File is REMOVED\n"
     ]
    }
   ],
   "source": [
    "# Delete a file\n",
    "import os\n",
    "os.remove('./sampleFiles/fileToBeRemoved.txt')\n",
    "print('File is REMOVED')"
   ]
  },
  {
   "cell_type": "code",
   "execution_count": 45,
   "metadata": {},
   "outputs": [
    {
     "name": "stdout",
     "output_type": "stream",
     "text": [
      "./sampleFiles/openAndReadFile.txt\n",
      "r\n"
     ]
    }
   ],
   "source": [
    "file = open('./sampleFiles/openAndReadFile.txt', 'r')\n",
    "print(file.name)\n",
    "print(file.mode)"
   ]
  },
  {
   "cell_type": "code",
   "execution_count": 10,
   "metadata": {},
   "outputs": [
    {
     "name": "stdout",
     "output_type": "stream",
     "text": [
      "Using os.walk\n",
      "index.html\n",
      "index.html\n",
      "index.html\n",
      "index.html\n",
      "index.html\n",
      "index.html\n",
      "index.html\n",
      "index.html\n",
      "index.html\n",
      "index.html\n",
      "index.html\n",
      "index.html\n",
      "index.html\n",
      "index.html\n",
      "index.html\n",
      "index.html\n",
      "index.html\n",
      "index.html\n",
      "index.html\n",
      "index.html\n",
      "index.html\n",
      "index.html\n",
      "index.html\n",
      "index.html\n",
      "index.html\n",
      "index.html\n",
      "index.html\n",
      "index.html\n",
      "index.html\n",
      "index.html\n",
      "index.html\n",
      "index.html\n",
      "index.html\n",
      "index.html\n",
      "\n",
      "Using os.scandir is not working as expected\n",
      "my-app\n",
      "react-complete-guide\n"
     ]
    }
   ],
   "source": [
    "# To iterate all files, including in sub directories, use os.walk and os.scandir\n",
    "import os\n",
    "path = 'C:/Users/anilk/Desktop/ReactJS/'\n",
    "print('Using os.walk')\n",
    "for root, folders, files in os.walk(path):\n",
    "    #print(root, folders, files)\n",
    "    for filename in files:\n",
    "        #print(root, filename)\n",
    "        if filename.endswith('index.html'):\n",
    "            print(filename)\n",
    "\n",
    "print('\\nUsing os.scandir is not working as expected')\n",
    "for entry in os.scandir(path):\n",
    "    print(entry.name)"
   ]
  },
  {
   "cell_type": "code",
   "execution_count": 15,
   "metadata": {},
   "outputs": [],
   "source": [
    "# Opening file and write(1st approach)\n",
    "with open('./sampleFiles/openAndWriteFile.txt', 'w') as fo:\n",
    "    # Python doesn't add new line automatically so adding new line\n",
    "    fo.write('Line 1\\n')\n",
    "    fo.write('Line 2\\n')\n",
    "    fo.write('Line 3\\n')\n",
    "    fo.write('Line 4\\n')\n",
    "    fo.write('Line 5\\n')\n",
    "fo.close()"
   ]
  },
  {
   "cell_type": "code",
   "execution_count": 25,
   "metadata": {},
   "outputs": [
    {
     "name": "stdout",
     "output_type": "stream",
     "text": [
      "I am getting better at it!!!\n"
     ]
    }
   ],
   "source": [
    "# Opening file and write(2nd approach)\n",
    "with open('./sampleFiles/openAndWriteFile1.txt', 'w') as fw:\n",
    "    write_content = 'I am getting better at it!!!'\n",
    "    # writing content to the file\n",
    "    print(write_content, file=fw)\n",
    "    # It is possible to specify the file parameter and write it to screen by making \n",
    "    # sure file ends up with None value either directly or by valiable\n",
    "    print(write_content, file=None)\n",
    "fw.close()"
   ]
  },
  {
   "cell_type": "code",
   "execution_count": 23,
   "metadata": {},
   "outputs": [],
   "source": [
    "# Opening file and write\n",
    "with open('./sampleFiles/openAndWriteOrAppendTextFile.txt', 'a') as fo:\n",
    "    # Python doesn't add new line automatically so adding new line\n",
    "    fo.write('Line 1\\n')\n",
    "    fo.write('Line 2\\n')\n",
    "    fo.write('Line 3\\n')\n",
    "    fo.write('Line 4\\n')\n",
    "    fo.write('Line 5\\n')\n",
    "fo.close()"
   ]
  },
  {
   "cell_type": "code",
   "execution_count": 31,
   "metadata": {},
   "outputs": [],
   "source": [
    "# create a new file and open it for writing\n",
    "# Note: It will throw FileExistsError if the file is already exists\n",
    "fo = open('./sampleFiles/openAndWriteWithXModeFile2.txt', 'x')\n",
    "# Python doesn't add new line automatically so adding new line\n",
    "fo.write('This 1\\n')\n",
    "fo.write('is 2\\n')\n",
    "fo.write('writing a file 3\\n')\n",
    "fo.write('in 4\\n')\n",
    "fo.write('\"x\" mode 5\\n')\n",
    "fo.close()"
   ]
  },
  {
   "cell_type": "code",
   "execution_count": 39,
   "metadata": {},
   "outputs": [],
   "source": [
    "# create a new file, open it for reading/writing/updating\n",
    "with open('./sampleFiles/openAndWriteOrAppendTextWithAPlusModeFile.txt', 'a+') as fo:\n",
    "    # Python doesn't add new line automatically so adding new line\n",
    "    fo.write('Line 1\\n')\n",
    "    fo.write('Line 2\\n')\n",
    "    fo.write('Line 3\\n')\n",
    "    fo.write('Line 4\\n')\n",
    "    fo.write('Line 5\\n')\n",
    "fo.close()"
   ]
  },
  {
   "cell_type": "code",
   "execution_count": null,
   "metadata": {},
   "outputs": [],
   "source": []
  }
 ],
 "metadata": {
  "kernelspec": {
   "display_name": "Python 3",
   "language": "python",
   "name": "python3"
  },
  "language_info": {
   "codemirror_mode": {
    "name": "ipython",
    "version": 3
   },
   "file_extension": ".py",
   "mimetype": "text/x-python",
   "name": "python",
   "nbconvert_exporter": "python",
   "pygments_lexer": "ipython3",
   "version": "3.7.4"
  }
 },
 "nbformat": 4,
 "nbformat_minor": 2
}
